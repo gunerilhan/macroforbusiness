{
 "cells": [
  {
   "cell_type": "code",
   "execution_count": 1,
   "metadata": {},
   "outputs": [],
   "source": [
    "import numpy as np\n",
    "import pandas as pd\n",
    "import matplotlib.pyplot as plt\n",
    "%matplotlib inline\n",
    "import seaborn as sns\n",
    "#import pandas_datareader.data as web\n",
    "import datetime"
   ]
  },
  {
   "cell_type": "code",
   "execution_count": 2,
   "metadata": {},
   "outputs": [],
   "source": [
    "import qeds\n",
    "qeds.themes.mpl_style();\n",
    "colors=plt.rcParams[\"axes.prop_cycle\"].by_key()[\"color\"]\n",
    "colors.remove('#fec630')\n",
    "sns.set_style('whitegrid')"
   ]
  },
  {
   "cell_type": "code",
   "execution_count": 3,
   "metadata": {
    "scrolled": true
   },
   "outputs": [],
   "source": [
    "lfpr = pd.read_csv('./lfpr.csv',skiprows=4)\n",
    "id_cols = lfpr.columns.values[:4]\n",
    "value_cols = lfpr.columns.values[4:]\n",
    "lfpr=lfpr.melt(id_vars=id_cols,value_vars=value_cols,var_name='year',value_name='LFPR')\n",
    "lfpr.dropna(inplace=True)\n",
    "lfpr['year'] = lfpr.year.astype(int)\n",
    "\n"
   ]
  },
  {
   "cell_type": "code",
   "execution_count": 4,
   "metadata": {},
   "outputs": [],
   "source": [
    "ur = pd.read_csv('./ur.csv',skiprows=4)\n",
    "id_cols = ur.columns.values[:4]\n",
    "value_cols = ur.columns.values[4:]\n",
    "ur=ur.melt(id_vars=id_cols,value_vars=value_cols,var_name='year',value_name='UR')\n",
    "ur.dropna(inplace=True)\n",
    "ur['year'] = ur.year.astype(int)\n"
   ]
  },
  {
   "cell_type": "code",
   "execution_count": 5,
   "metadata": {},
   "outputs": [],
   "source": [
    "epop = pd.read_csv('./epop.csv',skiprows=4)\n",
    "id_cols = epop.columns.values[:4]\n",
    "value_cols = epop.columns.values[4:]\n",
    "epop=epop.melt(id_vars=id_cols,value_vars=value_cols,var_name='year',value_name='E/pop')\n",
    "epop.dropna(inplace=True)\n",
    "epop['year'] = epop.year.astype(int)\n"
   ]
  },
  {
   "cell_type": "code",
   "execution_count": 6,
   "metadata": {},
   "outputs": [],
   "source": [
    "countries_pick = ['NOR','ESP','CHN','IND','FRA','GBR'] # 'USA'"
   ]
  },
  {
   "cell_type": "code",
   "execution_count": 7,
   "metadata": {},
   "outputs": [
    {
     "data": {
      "text/html": [
       "<div>\n",
       "<style scoped>\n",
       "    .dataframe tbody tr th:only-of-type {\n",
       "        vertical-align: middle;\n",
       "    }\n",
       "\n",
       "    .dataframe tbody tr th {\n",
       "        vertical-align: top;\n",
       "    }\n",
       "\n",
       "    .dataframe thead th {\n",
       "        text-align: right;\n",
       "    }\n",
       "</style>\n",
       "<table border=\"1\" class=\"dataframe\">\n",
       "  <thead>\n",
       "    <tr style=\"text-align: right;\">\n",
       "      <th></th>\n",
       "      <th>Country Name</th>\n",
       "      <th>Country Code</th>\n",
       "      <th>Indicator Name</th>\n",
       "      <th>Indicator Code</th>\n",
       "      <th>year</th>\n",
       "      <th>LFPR</th>\n",
       "    </tr>\n",
       "  </thead>\n",
       "  <tbody>\n",
       "    <tr>\n",
       "      <th>7921</th>\n",
       "      <td>Afghanistan</td>\n",
       "      <td>AFG</td>\n",
       "      <td>Labor force participation rate, total (% of to...</td>\n",
       "      <td>SL.TLF.CACT.ZS</td>\n",
       "      <td>1990</td>\n",
       "      <td>63.393002</td>\n",
       "    </tr>\n",
       "    <tr>\n",
       "      <th>7922</th>\n",
       "      <td>Angola</td>\n",
       "      <td>AGO</td>\n",
       "      <td>Labor force participation rate, total (% of to...</td>\n",
       "      <td>SL.TLF.CACT.ZS</td>\n",
       "      <td>1990</td>\n",
       "      <td>78.011002</td>\n",
       "    </tr>\n",
       "    <tr>\n",
       "      <th>7923</th>\n",
       "      <td>Albania</td>\n",
       "      <td>ALB</td>\n",
       "      <td>Labor force participation rate, total (% of to...</td>\n",
       "      <td>SL.TLF.CACT.ZS</td>\n",
       "      <td>1990</td>\n",
       "      <td>64.393997</td>\n",
       "    </tr>\n",
       "    <tr>\n",
       "      <th>7925</th>\n",
       "      <td>Arab World</td>\n",
       "      <td>ARB</td>\n",
       "      <td>Labor force participation rate, total (% of to...</td>\n",
       "      <td>SL.TLF.CACT.ZS</td>\n",
       "      <td>1990</td>\n",
       "      <td>48.278217</td>\n",
       "    </tr>\n",
       "    <tr>\n",
       "      <th>7926</th>\n",
       "      <td>United Arab Emirates</td>\n",
       "      <td>ARE</td>\n",
       "      <td>Labor force participation rate, total (% of to...</td>\n",
       "      <td>SL.TLF.CACT.ZS</td>\n",
       "      <td>1990</td>\n",
       "      <td>72.870003</td>\n",
       "    </tr>\n",
       "  </tbody>\n",
       "</table>\n",
       "</div>"
      ],
      "text/plain": [
       "              Country Name Country Code  \\\n",
       "7921           Afghanistan          AFG   \n",
       "7922                Angola          AGO   \n",
       "7923               Albania          ALB   \n",
       "7925            Arab World          ARB   \n",
       "7926  United Arab Emirates          ARE   \n",
       "\n",
       "                                         Indicator Name  Indicator Code  year  \\\n",
       "7921  Labor force participation rate, total (% of to...  SL.TLF.CACT.ZS  1990   \n",
       "7922  Labor force participation rate, total (% of to...  SL.TLF.CACT.ZS  1990   \n",
       "7923  Labor force participation rate, total (% of to...  SL.TLF.CACT.ZS  1990   \n",
       "7925  Labor force participation rate, total (% of to...  SL.TLF.CACT.ZS  1990   \n",
       "7926  Labor force participation rate, total (% of to...  SL.TLF.CACT.ZS  1990   \n",
       "\n",
       "           LFPR  \n",
       "7921  63.393002  \n",
       "7922  78.011002  \n",
       "7923  64.393997  \n",
       "7925  48.278217  \n",
       "7926  72.870003  "
      ]
     },
     "execution_count": 7,
     "metadata": {},
     "output_type": "execute_result"
    }
   ],
   "source": [
    "lfpr.head()"
   ]
  },
  {
   "cell_type": "code",
   "execution_count": 8,
   "metadata": {},
   "outputs": [],
   "source": [
    "lfpr_pick = lfpr[lfpr['Country Code'].isin(countries_pick)]"
   ]
  },
  {
   "cell_type": "code",
   "execution_count": 9,
   "metadata": {},
   "outputs": [],
   "source": [
    "pal = dict(zip(countries_pick,colors))"
   ]
  },
  {
   "cell_type": "code",
   "execution_count": 105,
   "metadata": {},
   "outputs": [
    {
     "data": {
      "image/png": "[encoded data removed]",
      "text/plain": [
       "<Figure size 432x288 with 1 Axes>"
      ]
     },
     "metadata": {},
     "output_type": "display_data"
    }
   ],
   "source": [
    "fig,ax = plt.subplots()\n",
    "for country in countries_pick:\n",
    "    data = lfpr[lfpr['Country Code']==country]\n",
    "    ax.plot(data.year,data.LFPR,pal[country],linewidth=2,label=country)\n",
    "    if (country != 'USA') & (country != 'NOR'):  \n",
    "        ax.annotate(country,(2019.2,data[data.year==2019].LFPR-.5),color=pal[country])\n",
    "    elif country == 'USA':\n",
    "        ax.annotate(country,(2019.2,data[data.year==2019].LFPR-2),color=pal[country])\n",
    "    elif country == 'NOR':\n",
    "        ax.annotate(country,(2019.2,data[data.year==2019].LFPR+.5),color=pal[country])\n",
    "\n",
    "ax.spines['left'].set_visible(False)\n",
    "ax.spines['right'].set_visible(False)\n",
    "ax.spines['top'].set_visible(False)\n",
    "ax.spines['bottom'].set_visible(False)\n",
    "ax.set_xlabel('Year')\n",
    "ax.set_ylabel('LFPR, %')\n",
    "plt.savefig('./lfpr.svg',bbox_inches='tight')"
   ]
  },
  {
   "cell_type": "code",
   "execution_count": 106,
   "metadata": {},
   "outputs": [
    {
     "data": {
      "image/png": "[encoded data removed]",
      "text/plain": [
       "<Figure size 432x288 with 1 Axes>"
      ]
     },
     "metadata": {},
     "output_type": "display_data"
    }
   ],
   "source": [
    "fig,ax = plt.subplots()\n",
    "for country in countries_pick:\n",
    "    data = ur[ur['Country Code']==country]\n",
    "    ax.plot(data.year,data.UR,pal[country],linewidth=2)\n",
    "    if country == 'GBR':\n",
    "        ax.annotate(country,(2013.4,data[data.year==2013].UR-.5),color=pal[country])\n",
    "    elif country == 'NOR':\n",
    "        ax.annotate(country,(1991,data[data.year==1991].UR+.9),color=pal[country])        \n",
    "    else:\n",
    "        ax.annotate(country,(2019.2,data[data.year==2019].UR-.5),color=pal[country])\n",
    "\n",
    "ax.spines['left'].set_visible(False)\n",
    "ax.spines['right'].set_visible(False)\n",
    "ax.spines['top'].set_visible(False)\n",
    "ax.spines['bottom'].set_visible(False)\n",
    "ax.set_xlabel('Year')\n",
    "ax.set_ylabel('UR, %')\n",
    "plt.savefig('./ur.svg',bbox_inches='tight')"
   ]
  },
  {
   "cell_type": "code",
   "execution_count": 107,
   "metadata": {
    "scrolled": true
   },
   "outputs": [
    {
     "data": {
      "image/png": "[encoded data removed]",
      "text/plain": [
       "<Figure size 432x288 with 1 Axes>"
      ]
     },
     "metadata": {},
     "output_type": "display_data"
    }
   ],
   "source": [
    "fig,ax = plt.subplots()\n",
    "for country in countries_pick:\n",
    "    data = epop[epop['Country Code']==country]\n",
    "    ax.plot(data.year,data['E/pop'],pal[country],linewidth=2)\n",
    "    if country == 'GBR':\n",
    "        ax.annotate(country,(2017,data[data.year==2017]['E/pop']-3),color=pal[country])\n",
    "    elif country == 'ESP':\n",
    "        ax.annotate(country,(2015,data[data.year==2015]['E/pop']-3),color=pal[country])   \n",
    "    elif country == 'FRA':\n",
    "        ax.annotate(country,(1995,data[data.year==1995]['E/pop']-3),color=pal[country])  \n",
    "    else:\n",
    "        ax.annotate(country,(2019.2,data[data.year==2019]['E/pop']-.5),color=pal[country])\n",
    "\n",
    "ax.spines['left'].set_visible(False)\n",
    "ax.spines['right'].set_visible(False)\n",
    "ax.spines['top'].set_visible(False)\n",
    "ax.spines['bottom'].set_visible(False)\n",
    "ax.set_xlabel('Year')\n",
    "ax.set_ylabel('E/pop, %')\n",
    "plt.savefig('./epop.svg',bbox_inches='tight')"
   ]
  },
  {
   "cell_type": "code",
   "execution_count": 10,
   "metadata": {},
   "outputs": [],
   "source": [
    "lfpr.drop(['Indicator Name','Indicator Code'],axis=1,inplace=True)"
   ]
  },
  {
   "cell_type": "code",
   "execution_count": 11,
   "metadata": {},
   "outputs": [],
   "source": [
    "ur.drop(['Indicator Name','Indicator Code'],axis=1,inplace=True)"
   ]
  },
  {
   "cell_type": "code",
   "execution_count": 12,
   "metadata": {},
   "outputs": [],
   "source": [
    "epop.drop(['Indicator Name','Indicator Code'],axis=1,inplace=True)"
   ]
  },
  {
   "cell_type": "code",
   "execution_count": 13,
   "metadata": {},
   "outputs": [],
   "source": [
    "df = lfpr.merge(ur,on=['Country Name','Country Code','year']).merge(epop,on=['Country Name','Country Code','year'])"
   ]
  },
  {
   "cell_type": "code",
   "execution_count": 14,
   "metadata": {},
   "outputs": [],
   "source": [
    "df['E/pop']=df['E/pop'].round(decimals=2)"
   ]
  },
  {
   "cell_type": "code",
   "execution_count": 15,
   "metadata": {},
   "outputs": [],
   "source": [
    "locs = {'CHN':(5,75),\n",
    "       'NOR':(5,65),\n",
    "       'GBR':(8,63),\n",
    "       'IND':(3,55),\n",
    "       'FRA':(6,53),\n",
    "       'ESP':(20,55)}"
   ]
  },
  {
   "cell_type": "code",
   "execution_count": 18,
   "metadata": {
    "scrolled": true
   },
   "outputs": [
    {
     "data": {
      "text/html": [
       "<div>\n",
       "<style scoped>\n",
       "    .dataframe tbody tr th:only-of-type {\n",
       "        vertical-align: middle;\n",
       "    }\n",
       "\n",
       "    .dataframe tbody tr th {\n",
       "        vertical-align: top;\n",
       "    }\n",
       "\n",
       "    .dataframe thead th {\n",
       "        text-align: right;\n",
       "    }\n",
       "</style>\n",
       "<table border=\"1\" class=\"dataframe\">\n",
       "  <thead>\n",
       "    <tr style=\"text-align: right;\">\n",
       "      <th></th>\n",
       "      <th>Country Name</th>\n",
       "      <th>Country Code</th>\n",
       "      <th>year</th>\n",
       "      <th>LFPR</th>\n",
       "      <th>UR</th>\n",
       "      <th>E/pop</th>\n",
       "    </tr>\n",
       "  </thead>\n",
       "  <tbody>\n",
       "    <tr>\n",
       "      <th>0</th>\n",
       "      <td>Afghanistan</td>\n",
       "      <td>AFG</td>\n",
       "      <td>1991</td>\n",
       "      <td>63.433998</td>\n",
       "      <td>2.976000</td>\n",
       "      <td>61.55</td>\n",
       "    </tr>\n",
       "    <tr>\n",
       "      <th>1</th>\n",
       "      <td>Angola</td>\n",
       "      <td>AGO</td>\n",
       "      <td>1991</td>\n",
       "      <td>78.002998</td>\n",
       "      <td>22.601999</td>\n",
       "      <td>60.37</td>\n",
       "    </tr>\n",
       "    <tr>\n",
       "      <th>2</th>\n",
       "      <td>Albania</td>\n",
       "      <td>ALB</td>\n",
       "      <td>1991</td>\n",
       "      <td>65.903999</td>\n",
       "      <td>16.781000</td>\n",
       "      <td>54.85</td>\n",
       "    </tr>\n",
       "    <tr>\n",
       "      <th>3</th>\n",
       "      <td>Arab World</td>\n",
       "      <td>ARB</td>\n",
       "      <td>1991</td>\n",
       "      <td>48.304310</td>\n",
       "      <td>11.635213</td>\n",
       "      <td>42.68</td>\n",
       "    </tr>\n",
       "    <tr>\n",
       "      <th>4</th>\n",
       "      <td>United Arab Emirates</td>\n",
       "      <td>ARE</td>\n",
       "      <td>1991</td>\n",
       "      <td>73.114998</td>\n",
       "      <td>1.632000</td>\n",
       "      <td>71.92</td>\n",
       "    </tr>\n",
       "    <tr>\n",
       "      <th>5</th>\n",
       "      <td>Argentina</td>\n",
       "      <td>ARG</td>\n",
       "      <td>1991</td>\n",
       "      <td>59.730999</td>\n",
       "      <td>5.440000</td>\n",
       "      <td>56.48</td>\n",
       "    </tr>\n",
       "    <tr>\n",
       "      <th>6</th>\n",
       "      <td>Armenia</td>\n",
       "      <td>ARM</td>\n",
       "      <td>1991</td>\n",
       "      <td>59.109001</td>\n",
       "      <td>1.600000</td>\n",
       "      <td>58.16</td>\n",
       "    </tr>\n",
       "    <tr>\n",
       "      <th>7</th>\n",
       "      <td>Australia</td>\n",
       "      <td>AUS</td>\n",
       "      <td>1991</td>\n",
       "      <td>63.269001</td>\n",
       "      <td>9.579000</td>\n",
       "      <td>57.21</td>\n",
       "    </tr>\n",
       "    <tr>\n",
       "      <th>8</th>\n",
       "      <td>Austria</td>\n",
       "      <td>AUT</td>\n",
       "      <td>1991</td>\n",
       "      <td>56.169998</td>\n",
       "      <td>3.420000</td>\n",
       "      <td>54.25</td>\n",
       "    </tr>\n",
       "    <tr>\n",
       "      <th>9</th>\n",
       "      <td>Azerbaijan</td>\n",
       "      <td>AZE</td>\n",
       "      <td>1991</td>\n",
       "      <td>60.569000</td>\n",
       "      <td>0.900000</td>\n",
       "      <td>60.02</td>\n",
       "    </tr>\n",
       "    <tr>\n",
       "      <th>10</th>\n",
       "      <td>Burundi</td>\n",
       "      <td>BDI</td>\n",
       "      <td>1991</td>\n",
       "      <td>90.157997</td>\n",
       "      <td>1.551000</td>\n",
       "      <td>88.76</td>\n",
       "    </tr>\n",
       "    <tr>\n",
       "      <th>11</th>\n",
       "      <td>Belgium</td>\n",
       "      <td>BEL</td>\n",
       "      <td>1991</td>\n",
       "      <td>49.125000</td>\n",
       "      <td>6.986000</td>\n",
       "      <td>45.69</td>\n",
       "    </tr>\n",
       "    <tr>\n",
       "      <th>12</th>\n",
       "      <td>Benin</td>\n",
       "      <td>BEN</td>\n",
       "      <td>1991</td>\n",
       "      <td>72.447998</td>\n",
       "      <td>1.481000</td>\n",
       "      <td>71.38</td>\n",
       "    </tr>\n",
       "    <tr>\n",
       "      <th>13</th>\n",
       "      <td>Burkina Faso</td>\n",
       "      <td>BFA</td>\n",
       "      <td>1991</td>\n",
       "      <td>83.150002</td>\n",
       "      <td>2.439000</td>\n",
       "      <td>81.12</td>\n",
       "    </tr>\n",
       "    <tr>\n",
       "      <th>14</th>\n",
       "      <td>Bangladesh</td>\n",
       "      <td>BGD</td>\n",
       "      <td>1991</td>\n",
       "      <td>56.659000</td>\n",
       "      <td>2.200000</td>\n",
       "      <td>55.41</td>\n",
       "    </tr>\n",
       "    <tr>\n",
       "      <th>15</th>\n",
       "      <td>Bulgaria</td>\n",
       "      <td>BGR</td>\n",
       "      <td>1991</td>\n",
       "      <td>57.860001</td>\n",
       "      <td>12.184000</td>\n",
       "      <td>50.81</td>\n",
       "    </tr>\n",
       "    <tr>\n",
       "      <th>16</th>\n",
       "      <td>Bahrain</td>\n",
       "      <td>BHR</td>\n",
       "      <td>1991</td>\n",
       "      <td>64.515999</td>\n",
       "      <td>0.973000</td>\n",
       "      <td>63.89</td>\n",
       "    </tr>\n",
       "    <tr>\n",
       "      <th>17</th>\n",
       "      <td>Bahamas, The</td>\n",
       "      <td>BHS</td>\n",
       "      <td>1991</td>\n",
       "      <td>72.813004</td>\n",
       "      <td>12.170000</td>\n",
       "      <td>63.95</td>\n",
       "    </tr>\n",
       "    <tr>\n",
       "      <th>18</th>\n",
       "      <td>Bosnia and Herzegovina</td>\n",
       "      <td>BIH</td>\n",
       "      <td>1991</td>\n",
       "      <td>51.853001</td>\n",
       "      <td>17.549999</td>\n",
       "      <td>42.75</td>\n",
       "    </tr>\n",
       "    <tr>\n",
       "      <th>19</th>\n",
       "      <td>Belarus</td>\n",
       "      <td>BLR</td>\n",
       "      <td>1991</td>\n",
       "      <td>59.514000</td>\n",
       "      <td>0.600000</td>\n",
       "      <td>59.16</td>\n",
       "    </tr>\n",
       "    <tr>\n",
       "      <th>20</th>\n",
       "      <td>Belize</td>\n",
       "      <td>BLZ</td>\n",
       "      <td>1991</td>\n",
       "      <td>58.564999</td>\n",
       "      <td>8.074000</td>\n",
       "      <td>53.84</td>\n",
       "    </tr>\n",
       "    <tr>\n",
       "      <th>21</th>\n",
       "      <td>Bolivia</td>\n",
       "      <td>BOL</td>\n",
       "      <td>1991</td>\n",
       "      <td>68.821999</td>\n",
       "      <td>2.890000</td>\n",
       "      <td>66.83</td>\n",
       "    </tr>\n",
       "    <tr>\n",
       "      <th>22</th>\n",
       "      <td>Brazil</td>\n",
       "      <td>BRA</td>\n",
       "      <td>1991</td>\n",
       "      <td>62.528000</td>\n",
       "      <td>6.260000</td>\n",
       "      <td>58.61</td>\n",
       "    </tr>\n",
       "    <tr>\n",
       "      <th>23</th>\n",
       "      <td>Barbados</td>\n",
       "      <td>BRB</td>\n",
       "      <td>1991</td>\n",
       "      <td>67.626999</td>\n",
       "      <td>22.493000</td>\n",
       "      <td>52.42</td>\n",
       "    </tr>\n",
       "    <tr>\n",
       "      <th>24</th>\n",
       "      <td>Brunei Darussalam</td>\n",
       "      <td>BRN</td>\n",
       "      <td>1991</td>\n",
       "      <td>65.174004</td>\n",
       "      <td>4.700000</td>\n",
       "      <td>62.11</td>\n",
       "    </tr>\n",
       "    <tr>\n",
       "      <th>25</th>\n",
       "      <td>Bhutan</td>\n",
       "      <td>BTN</td>\n",
       "      <td>1991</td>\n",
       "      <td>66.897003</td>\n",
       "      <td>1.295000</td>\n",
       "      <td>66.03</td>\n",
       "    </tr>\n",
       "    <tr>\n",
       "      <th>26</th>\n",
       "      <td>Botswana</td>\n",
       "      <td>BWA</td>\n",
       "      <td>1991</td>\n",
       "      <td>60.804001</td>\n",
       "      <td>13.820000</td>\n",
       "      <td>52.40</td>\n",
       "    </tr>\n",
       "    <tr>\n",
       "      <th>27</th>\n",
       "      <td>Central African Republic</td>\n",
       "      <td>CAF</td>\n",
       "      <td>1991</td>\n",
       "      <td>73.004997</td>\n",
       "      <td>6.741000</td>\n",
       "      <td>68.08</td>\n",
       "    </tr>\n",
       "    <tr>\n",
       "      <th>28</th>\n",
       "      <td>Canada</td>\n",
       "      <td>CAN</td>\n",
       "      <td>1991</td>\n",
       "      <td>66.253998</td>\n",
       "      <td>10.316000</td>\n",
       "      <td>59.42</td>\n",
       "    </tr>\n",
       "    <tr>\n",
       "      <th>29</th>\n",
       "      <td>Central Europe and the Baltics</td>\n",
       "      <td>CEB</td>\n",
       "      <td>1991</td>\n",
       "      <td>62.085031</td>\n",
       "      <td>9.501198</td>\n",
       "      <td>56.19</td>\n",
       "    </tr>\n",
       "    <tr>\n",
       "      <th>...</th>\n",
       "      <td>...</td>\n",
       "      <td>...</td>\n",
       "      <td>...</td>\n",
       "      <td>...</td>\n",
       "      <td>...</td>\n",
       "      <td>...</td>\n",
       "    </tr>\n",
       "    <tr>\n",
       "      <th>203</th>\n",
       "      <td>Thailand</td>\n",
       "      <td>THA</td>\n",
       "      <td>1991</td>\n",
       "      <td>75.402000</td>\n",
       "      <td>2.630000</td>\n",
       "      <td>73.42</td>\n",
       "    </tr>\n",
       "    <tr>\n",
       "      <th>204</th>\n",
       "      <td>Tajikistan</td>\n",
       "      <td>TJK</td>\n",
       "      <td>1991</td>\n",
       "      <td>42.067001</td>\n",
       "      <td>1.900000</td>\n",
       "      <td>41.27</td>\n",
       "    </tr>\n",
       "    <tr>\n",
       "      <th>205</th>\n",
       "      <td>Turkmenistan</td>\n",
       "      <td>TKM</td>\n",
       "      <td>1991</td>\n",
       "      <td>61.761002</td>\n",
       "      <td>1.400000</td>\n",
       "      <td>60.90</td>\n",
       "    </tr>\n",
       "    <tr>\n",
       "      <th>206</th>\n",
       "      <td>Latin America &amp; the Caribbean (IDA &amp; IBRD coun...</td>\n",
       "      <td>TLA</td>\n",
       "      <td>1991</td>\n",
       "      <td>61.623842</td>\n",
       "      <td>5.985854</td>\n",
       "      <td>57.94</td>\n",
       "    </tr>\n",
       "    <tr>\n",
       "      <th>207</th>\n",
       "      <td>Timor-Leste</td>\n",
       "      <td>TLS</td>\n",
       "      <td>1991</td>\n",
       "      <td>62.264999</td>\n",
       "      <td>3.260000</td>\n",
       "      <td>60.24</td>\n",
       "    </tr>\n",
       "    <tr>\n",
       "      <th>208</th>\n",
       "      <td>Middle East &amp; North Africa (IDA &amp; IBRD countries)</td>\n",
       "      <td>TMN</td>\n",
       "      <td>1991</td>\n",
       "      <td>46.503060</td>\n",
       "      <td>11.896689</td>\n",
       "      <td>40.97</td>\n",
       "    </tr>\n",
       "    <tr>\n",
       "      <th>209</th>\n",
       "      <td>Tonga</td>\n",
       "      <td>TON</td>\n",
       "      <td>1991</td>\n",
       "      <td>56.951000</td>\n",
       "      <td>1.197000</td>\n",
       "      <td>56.27</td>\n",
       "    </tr>\n",
       "    <tr>\n",
       "      <th>210</th>\n",
       "      <td>South Asia (IDA &amp; IBRD)</td>\n",
       "      <td>TSA</td>\n",
       "      <td>1991</td>\n",
       "      <td>58.218064</td>\n",
       "      <td>2.412074</td>\n",
       "      <td>56.81</td>\n",
       "    </tr>\n",
       "    <tr>\n",
       "      <th>211</th>\n",
       "      <td>Sub-Saharan Africa (IDA &amp; IBRD countries)</td>\n",
       "      <td>TSS</td>\n",
       "      <td>1991</td>\n",
       "      <td>68.954084</td>\n",
       "      <td>6.965240</td>\n",
       "      <td>64.15</td>\n",
       "    </tr>\n",
       "    <tr>\n",
       "      <th>212</th>\n",
       "      <td>Trinidad and Tobago</td>\n",
       "      <td>TTO</td>\n",
       "      <td>1991</td>\n",
       "      <td>57.578999</td>\n",
       "      <td>3.439000</td>\n",
       "      <td>55.60</td>\n",
       "    </tr>\n",
       "    <tr>\n",
       "      <th>213</th>\n",
       "      <td>Tunisia</td>\n",
       "      <td>TUN</td>\n",
       "      <td>1991</td>\n",
       "      <td>48.870998</td>\n",
       "      <td>15.074000</td>\n",
       "      <td>41.50</td>\n",
       "    </tr>\n",
       "    <tr>\n",
       "      <th>214</th>\n",
       "      <td>Turkey</td>\n",
       "      <td>TUR</td>\n",
       "      <td>1991</td>\n",
       "      <td>56.444000</td>\n",
       "      <td>8.210000</td>\n",
       "      <td>51.81</td>\n",
       "    </tr>\n",
       "    <tr>\n",
       "      <th>215</th>\n",
       "      <td>Tanzania</td>\n",
       "      <td>TZA</td>\n",
       "      <td>1991</td>\n",
       "      <td>87.324997</td>\n",
       "      <td>3.600000</td>\n",
       "      <td>84.18</td>\n",
       "    </tr>\n",
       "    <tr>\n",
       "      <th>216</th>\n",
       "      <td>Uganda</td>\n",
       "      <td>UGA</td>\n",
       "      <td>1991</td>\n",
       "      <td>69.847000</td>\n",
       "      <td>0.940000</td>\n",
       "      <td>69.19</td>\n",
       "    </tr>\n",
       "    <tr>\n",
       "      <th>217</th>\n",
       "      <td>Ukraine</td>\n",
       "      <td>UKR</td>\n",
       "      <td>1991</td>\n",
       "      <td>59.870998</td>\n",
       "      <td>1.900000</td>\n",
       "      <td>58.73</td>\n",
       "    </tr>\n",
       "    <tr>\n",
       "      <th>218</th>\n",
       "      <td>Upper middle income</td>\n",
       "      <td>UMC</td>\n",
       "      <td>1991</td>\n",
       "      <td>71.285837</td>\n",
       "      <td>4.190703</td>\n",
       "      <td>68.30</td>\n",
       "    </tr>\n",
       "    <tr>\n",
       "      <th>219</th>\n",
       "      <td>Uruguay</td>\n",
       "      <td>URY</td>\n",
       "      <td>1991</td>\n",
       "      <td>60.264000</td>\n",
       "      <td>12.640000</td>\n",
       "      <td>52.65</td>\n",
       "    </tr>\n",
       "    <tr>\n",
       "      <th>220</th>\n",
       "      <td>United States</td>\n",
       "      <td>USA</td>\n",
       "      <td>1991</td>\n",
       "      <td>65.068001</td>\n",
       "      <td>6.800000</td>\n",
       "      <td>60.64</td>\n",
       "    </tr>\n",
       "    <tr>\n",
       "      <th>221</th>\n",
       "      <td>Uzbekistan</td>\n",
       "      <td>UZB</td>\n",
       "      <td>1991</td>\n",
       "      <td>62.096001</td>\n",
       "      <td>1.900000</td>\n",
       "      <td>60.92</td>\n",
       "    </tr>\n",
       "    <tr>\n",
       "      <th>222</th>\n",
       "      <td>St. Vincent and the Grenadines</td>\n",
       "      <td>VCT</td>\n",
       "      <td>1991</td>\n",
       "      <td>62.575001</td>\n",
       "      <td>19.770000</td>\n",
       "      <td>50.20</td>\n",
       "    </tr>\n",
       "    <tr>\n",
       "      <th>223</th>\n",
       "      <td>Venezuela, RB</td>\n",
       "      <td>VEN</td>\n",
       "      <td>1991</td>\n",
       "      <td>63.776001</td>\n",
       "      <td>9.450000</td>\n",
       "      <td>57.75</td>\n",
       "    </tr>\n",
       "    <tr>\n",
       "      <th>224</th>\n",
       "      <td>Virgin Islands (U.S.)</td>\n",
       "      <td>VIR</td>\n",
       "      <td>1991</td>\n",
       "      <td>65.774002</td>\n",
       "      <td>8.720000</td>\n",
       "      <td>60.04</td>\n",
       "    </tr>\n",
       "    <tr>\n",
       "      <th>225</th>\n",
       "      <td>Vietnam</td>\n",
       "      <td>VNM</td>\n",
       "      <td>1991</td>\n",
       "      <td>77.177002</td>\n",
       "      <td>1.962000</td>\n",
       "      <td>75.66</td>\n",
       "    </tr>\n",
       "    <tr>\n",
       "      <th>226</th>\n",
       "      <td>Vanuatu</td>\n",
       "      <td>VUT</td>\n",
       "      <td>1991</td>\n",
       "      <td>70.360001</td>\n",
       "      <td>5.995000</td>\n",
       "      <td>66.14</td>\n",
       "    </tr>\n",
       "    <tr>\n",
       "      <th>227</th>\n",
       "      <td>World</td>\n",
       "      <td>WLD</td>\n",
       "      <td>1991</td>\n",
       "      <td>65.486916</td>\n",
       "      <td>4.394101</td>\n",
       "      <td>62.61</td>\n",
       "    </tr>\n",
       "    <tr>\n",
       "      <th>228</th>\n",
       "      <td>Samoa</td>\n",
       "      <td>WSM</td>\n",
       "      <td>1991</td>\n",
       "      <td>34.226002</td>\n",
       "      <td>2.100000</td>\n",
       "      <td>33.51</td>\n",
       "    </tr>\n",
       "    <tr>\n",
       "      <th>229</th>\n",
       "      <td>Yemen, Rep.</td>\n",
       "      <td>YEM</td>\n",
       "      <td>1991</td>\n",
       "      <td>44.491001</td>\n",
       "      <td>8.042000</td>\n",
       "      <td>40.91</td>\n",
       "    </tr>\n",
       "    <tr>\n",
       "      <th>230</th>\n",
       "      <td>South Africa</td>\n",
       "      <td>ZAF</td>\n",
       "      <td>1991</td>\n",
       "      <td>54.741001</td>\n",
       "      <td>28.271000</td>\n",
       "      <td>39.26</td>\n",
       "    </tr>\n",
       "    <tr>\n",
       "      <th>231</th>\n",
       "      <td>Zambia</td>\n",
       "      <td>ZMB</td>\n",
       "      <td>1991</td>\n",
       "      <td>79.695000</td>\n",
       "      <td>18.900000</td>\n",
       "      <td>64.63</td>\n",
       "    </tr>\n",
       "    <tr>\n",
       "      <th>232</th>\n",
       "      <td>Zimbabwe</td>\n",
       "      <td>ZWE</td>\n",
       "      <td>1991</td>\n",
       "      <td>81.644997</td>\n",
       "      <td>4.518000</td>\n",
       "      <td>77.96</td>\n",
       "    </tr>\n",
       "  </tbody>\n",
       "</table>\n",
       "<p>233 rows × 6 columns</p>\n",
       "</div>"
      ],
      "text/plain": [
       "                                          Country Name Country Code  year  \\\n",
       "0                                          Afghanistan          AFG  1991   \n",
       "1                                               Angola          AGO  1991   \n",
       "2                                              Albania          ALB  1991   \n",
       "3                                           Arab World          ARB  1991   \n",
       "4                                 United Arab Emirates          ARE  1991   \n",
       "5                                            Argentina          ARG  1991   \n",
       "6                                              Armenia          ARM  1991   \n",
       "7                                            Australia          AUS  1991   \n",
       "8                                              Austria          AUT  1991   \n",
       "9                                           Azerbaijan          AZE  1991   \n",
       "10                                             Burundi          BDI  1991   \n",
       "11                                             Belgium          BEL  1991   \n",
       "12                                               Benin          BEN  1991   \n",
       "13                                        Burkina Faso          BFA  1991   \n",
       "14                                          Bangladesh          BGD  1991   \n",
       "15                                            Bulgaria          BGR  1991   \n",
       "16                                             Bahrain          BHR  1991   \n",
       "17                                        Bahamas, The          BHS  1991   \n",
       "18                              Bosnia and Herzegovina          BIH  1991   \n",
       "19                                             Belarus          BLR  1991   \n",
       "20                                              Belize          BLZ  1991   \n",
       "21                                             Bolivia          BOL  1991   \n",
       "22                                              Brazil          BRA  1991   \n",
       "23                                            Barbados          BRB  1991   \n",
       "24                                   Brunei Darussalam          BRN  1991   \n",
       "25                                              Bhutan          BTN  1991   \n",
       "26                                            Botswana          BWA  1991   \n",
       "27                            Central African Republic          CAF  1991   \n",
       "28                                              Canada          CAN  1991   \n",
       "29                      Central Europe and the Baltics          CEB  1991   \n",
       "..                                                 ...          ...   ...   \n",
       "203                                           Thailand          THA  1991   \n",
       "204                                         Tajikistan          TJK  1991   \n",
       "205                                       Turkmenistan          TKM  1991   \n",
       "206  Latin America & the Caribbean (IDA & IBRD coun...          TLA  1991   \n",
       "207                                        Timor-Leste          TLS  1991   \n",
       "208  Middle East & North Africa (IDA & IBRD countries)          TMN  1991   \n",
       "209                                              Tonga          TON  1991   \n",
       "210                            South Asia (IDA & IBRD)          TSA  1991   \n",
       "211          Sub-Saharan Africa (IDA & IBRD countries)          TSS  1991   \n",
       "212                                Trinidad and Tobago          TTO  1991   \n",
       "213                                            Tunisia          TUN  1991   \n",
       "214                                             Turkey          TUR  1991   \n",
       "215                                           Tanzania          TZA  1991   \n",
       "216                                             Uganda          UGA  1991   \n",
       "217                                            Ukraine          UKR  1991   \n",
       "218                                Upper middle income          UMC  1991   \n",
       "219                                            Uruguay          URY  1991   \n",
       "220                                      United States          USA  1991   \n",
       "221                                         Uzbekistan          UZB  1991   \n",
       "222                     St. Vincent and the Grenadines          VCT  1991   \n",
       "223                                      Venezuela, RB          VEN  1991   \n",
       "224                              Virgin Islands (U.S.)          VIR  1991   \n",
       "225                                            Vietnam          VNM  1991   \n",
       "226                                            Vanuatu          VUT  1991   \n",
       "227                                              World          WLD  1991   \n",
       "228                                              Samoa          WSM  1991   \n",
       "229                                        Yemen, Rep.          YEM  1991   \n",
       "230                                       South Africa          ZAF  1991   \n",
       "231                                             Zambia          ZMB  1991   \n",
       "232                                           Zimbabwe          ZWE  1991   \n",
       "\n",
       "          LFPR         UR  E/pop  \n",
       "0    63.433998   2.976000  61.55  \n",
       "1    78.002998  22.601999  60.37  \n",
       "2    65.903999  16.781000  54.85  \n",
       "3    48.304310  11.635213  42.68  \n",
       "4    73.114998   1.632000  71.92  \n",
       "5    59.730999   5.440000  56.48  \n",
       "6    59.109001   1.600000  58.16  \n",
       "7    63.269001   9.579000  57.21  \n",
       "8    56.169998   3.420000  54.25  \n",
       "9    60.569000   0.900000  60.02  \n",
       "10   90.157997   1.551000  88.76  \n",
       "11   49.125000   6.986000  45.69  \n",
       "12   72.447998   1.481000  71.38  \n",
       "13   83.150002   2.439000  81.12  \n",
       "14   56.659000   2.200000  55.41  \n",
       "15   57.860001  12.184000  50.81  \n",
       "16   64.515999   0.973000  63.89  \n",
       "17   72.813004  12.170000  63.95  \n",
       "18   51.853001  17.549999  42.75  \n",
       "19   59.514000   0.600000  59.16  \n",
       "20   58.564999   8.074000  53.84  \n",
       "21   68.821999   2.890000  66.83  \n",
       "22   62.528000   6.260000  58.61  \n",
       "23   67.626999  22.493000  52.42  \n",
       "24   65.174004   4.700000  62.11  \n",
       "25   66.897003   1.295000  66.03  \n",
       "26   60.804001  13.820000  52.40  \n",
       "27   73.004997   6.741000  68.08  \n",
       "28   66.253998  10.316000  59.42  \n",
       "29   62.085031   9.501198  56.19  \n",
       "..         ...        ...    ...  \n",
       "203  75.402000   2.630000  73.42  \n",
       "204  42.067001   1.900000  41.27  \n",
       "205  61.761002   1.400000  60.90  \n",
       "206  61.623842   5.985854  57.94  \n",
       "207  62.264999   3.260000  60.24  \n",
       "208  46.503060  11.896689  40.97  \n",
       "209  56.951000   1.197000  56.27  \n",
       "210  58.218064   2.412074  56.81  \n",
       "211  68.954084   6.965240  64.15  \n",
       "212  57.578999   3.439000  55.60  \n",
       "213  48.870998  15.074000  41.50  \n",
       "214  56.444000   8.210000  51.81  \n",
       "215  87.324997   3.600000  84.18  \n",
       "216  69.847000   0.940000  69.19  \n",
       "217  59.870998   1.900000  58.73  \n",
       "218  71.285837   4.190703  68.30  \n",
       "219  60.264000  12.640000  52.65  \n",
       "220  65.068001   6.800000  60.64  \n",
       "221  62.096001   1.900000  60.92  \n",
       "222  62.575001  19.770000  50.20  \n",
       "223  63.776001   9.450000  57.75  \n",
       "224  65.774002   8.720000  60.04  \n",
       "225  77.177002   1.962000  75.66  \n",
       "226  70.360001   5.995000  66.14  \n",
       "227  65.486916   4.394101  62.61  \n",
       "228  34.226002   2.100000  33.51  \n",
       "229  44.491001   8.042000  40.91  \n",
       "230  54.741001  28.271000  39.26  \n",
       "231  79.695000  18.900000  64.63  \n",
       "232  81.644997   4.518000  77.96  \n",
       "\n",
       "[233 rows x 6 columns]"
      ]
     },
     "execution_count": 18,
     "metadata": {},
     "output_type": "execute_result"
    }
   ],
   "source": [
    "df[df.year==1991]"
   ]
  },
  {
   "cell_type": "code",
   "execution_count": 33,
   "metadata": {
    "scrolled": true
   },
   "outputs": [
    {
     "data": {
      "image/png": "[encoded data removed]",
      "text/plain": [
       "<Figure size 432x288 with 1 Axes>"
      ]
     },
     "metadata": {},
     "output_type": "display_data"
    }
   ],
   "source": [
    "fig, ax = plt.subplots()\n",
    "for country in countries_pick:\n",
    "    data = df[df['Country Code']==country]\n",
    "    ax.scatter(data.UR,data.LFPR,color=pal[country])\n",
    "    loc_ = locs[country]\n",
    "    loc_2 = data[data.year == 1991][['UR','LFPR']].values[0]\n",
    "    ax.annotate(country,loc_,color=pal[country])\n",
    "    if country in ['CHN','ESP']:\n",
    "        for year_ in [1991,2013,2019]:\n",
    "            loc_2 = data[data.year == year_][['UR','LFPR']].values[0]\n",
    "            ax.annotate(\n",
    "            year_, xy=loc_2, xycoords=\"data\",\n",
    "            xytext=(25, 15), textcoords=\"offset points\",\n",
    "            arrowprops=dict(arrowstyle=\"->\", color='k',connectionstyle=\"arc3,rad=0.6\"))\n",
    "ax.spines['left'].set_visible(False)\n",
    "ax.spines['right'].set_visible(False)\n",
    "ax.spines['top'].set_visible(False)\n",
    "ax.spines['bottom'].set_visible(False)\n",
    "ax.set_xlabel('UR, %')\n",
    "ax.set_ylabel('LFPR, %')\n",
    "plt.savefig('./lfpr_ur.svg',bbox_inches='tight')"
   ]
  },
  {
   "cell_type": "code",
   "execution_count": null,
   "metadata": {},
   "outputs": [],
   "source": []
  },
  {
   "cell_type": "code",
   "execution_count": 134,
   "metadata": {},
   "outputs": [
    {
     "data": {
      "text/html": [
       "        <script type=\"text/javascript\">\n",
       "        window.PlotlyConfig = {MathJaxConfig: 'local'};\n",
       "        if (window.MathJax) {MathJax.Hub.Config({SVG: {font: \"STIX-Web\"}});}\n",
       "        if (typeof require !== 'undefined') {\n",
       "        require.undef(\"plotly\");\n",
       "        requirejs.config({\n",
       "            paths: {\n",
       "                'plotly': ['https://cdn.plot.ly/plotly-latest.min']\n",
       "            }\n",
       "        });\n",
       "        require(['plotly'], function(Plotly) {\n",
       "            window._Plotly = Plotly;\n",
       "        });\n",
       "        }\n",
       "        </script>\n",
       "        "
      ]
     },
     "metadata": {},
     "output_type": "display_data"
    }
   ],
   "source": [
    "import plotly_express as px\n",
    "import plotly as py\n",
    "py.offline.init_notebook_mode(connected=True)"
   ]
  },
  {
   "cell_type": "code",
   "execution_count": 135,
   "metadata": {},
   "outputs": [
    {
     "data": {
      "text/html": [
       "<div>\n",
       "<style scoped>\n",
       "    .dataframe tbody tr th:only-of-type {\n",
       "        vertical-align: middle;\n",
       "    }\n",
       "\n",
       "    .dataframe tbody tr th {\n",
       "        vertical-align: top;\n",
       "    }\n",
       "\n",
       "    .dataframe thead th {\n",
       "        text-align: right;\n",
       "    }\n",
       "</style>\n",
       "<table border=\"1\" class=\"dataframe\">\n",
       "  <thead>\n",
       "    <tr style=\"text-align: right;\">\n",
       "      <th></th>\n",
       "      <th>Country Name</th>\n",
       "      <th>Country Code</th>\n",
       "      <th>year</th>\n",
       "      <th>LFPR</th>\n",
       "      <th>UR</th>\n",
       "      <th>E/pop</th>\n",
       "    </tr>\n",
       "  </thead>\n",
       "  <tbody>\n",
       "    <tr>\n",
       "      <th>0</th>\n",
       "      <td>Afghanistan</td>\n",
       "      <td>AFG</td>\n",
       "      <td>1991</td>\n",
       "      <td>63.433998</td>\n",
       "      <td>2.976000</td>\n",
       "      <td>61.546001</td>\n",
       "    </tr>\n",
       "    <tr>\n",
       "      <th>1</th>\n",
       "      <td>Angola</td>\n",
       "      <td>AGO</td>\n",
       "      <td>1991</td>\n",
       "      <td>78.002998</td>\n",
       "      <td>22.601999</td>\n",
       "      <td>60.372002</td>\n",
       "    </tr>\n",
       "    <tr>\n",
       "      <th>2</th>\n",
       "      <td>Albania</td>\n",
       "      <td>ALB</td>\n",
       "      <td>1991</td>\n",
       "      <td>65.903999</td>\n",
       "      <td>16.781000</td>\n",
       "      <td>54.845001</td>\n",
       "    </tr>\n",
       "    <tr>\n",
       "      <th>3</th>\n",
       "      <td>Arab World</td>\n",
       "      <td>ARB</td>\n",
       "      <td>1991</td>\n",
       "      <td>48.304310</td>\n",
       "      <td>11.635213</td>\n",
       "      <td>42.683929</td>\n",
       "    </tr>\n",
       "    <tr>\n",
       "      <th>4</th>\n",
       "      <td>United Arab Emirates</td>\n",
       "      <td>ARE</td>\n",
       "      <td>1991</td>\n",
       "      <td>73.114998</td>\n",
       "      <td>1.632000</td>\n",
       "      <td>71.921997</td>\n",
       "    </tr>\n",
       "  </tbody>\n",
       "</table>\n",
       "</div>"
      ],
      "text/plain": [
       "           Country Name Country Code  year       LFPR         UR      E/pop\n",
       "0           Afghanistan          AFG  1991  63.433998   2.976000  61.546001\n",
       "1                Angola          AGO  1991  78.002998  22.601999  60.372002\n",
       "2               Albania          ALB  1991  65.903999  16.781000  54.845001\n",
       "3            Arab World          ARB  1991  48.304310  11.635213  42.683929\n",
       "4  United Arab Emirates          ARE  1991  73.114998   1.632000  71.921997"
      ]
     },
     "execution_count": 135,
     "metadata": {},
     "output_type": "execute_result"
    }
   ],
   "source": [
    "df.head()"
   ]
  },
  {
   "cell_type": "code",
   "execution_count": 169,
   "metadata": {},
   "outputs": [],
   "source": [
    "fig = px.scatter(df[df['Country Code'].isin(countries_pick)],x='UR',y='LFPR',color='Country Code',\n",
    "           color_discrete_map=pal,template='plotly_white',size='E/pop',size_max=12,\n",
    "           hover_name='Country Name',hover_data=['year','E/pop'],height=500)"
   ]
  },
  {
   "cell_type": "code",
   "execution_count": 170,
   "metadata": {},
   "outputs": [
    {
     "data": {
      "application/vnd.plotly.v1+json": {
       "config": {
        "plotlyServerURL": "https://plot.ly"
       },
       "data": [
        {
         "customdata": [
          [
           1991,
           77.15
          ],
          [
           1992,
           77.09
          ],
          [
           1993,
           76.79
          ],
          [
           1994,
           76.54
          ],
          [
           1995,
           76.33
          ],
          [
           1996,
           76.07
          ],
          [
           1997,
           75.75
          ],
          [
           1998,
           75.47
          ],
          [
           1999,
           75.06
          ],
          [
           2000,
           74.67
          ],
          [
           2001,
           73.58
          ],
          [
           2002,
           72.51
          ],
          [
           2003,
           71.41
          ],
          [
           2004,
           70.73
          ],
          [
           2005,
           70.08
          ],
          [
           2006,
           69.58
          ],
          [
           2007,
           69.19
          ],
          [
           2008,
           68.57
          ],
          [
           2009,
           68.09
          ],
          [
           2010,
           67.78
          ],
          [
           2011,
           67.6
          ],
          [
           2012,
           67.37
          ],
          [
           2013,
           67.18
          ],
          [
           2014,
           66.95
          ],
          [
           2015,
           66.68
          ],
          [
           2016,
           66.42
          ],
          [
           2017,
           66.16
          ],
          [
           2018,
           65.68
          ],
          [
           2019,
           65.18
          ]
         ],
         "hoverlabel": {
          "namelength": 0
         },
         "hovertemplate": "<b>%{hovertext}</b><br><br>Country Code=CHN<br>UR=%{x}<br>LFPR=%{y}<br>E/pop=%{customdata[1]}<br>year=%{customdata[0]}",
         "hovertext": [
          "China",
          "China",
          "China",
          "China",
          "China",
          "China",
          "China",
          "China",
          "China",
          "China",
          "China",
          "China",
          "China",
          "China",
          "China",
          "China",
          "China",
          "China",
          "China",
          "China",
          "China",
          "China",
          "China",
          "China",
          "China",
          "China",
          "China",
          "China",
          "China"
         ],
         "legendgroup": "Country Code=CHN",
         "marker": {
          "color": "#bb60d5",
          "size": [
           77.15,
           77.09,
           76.79,
           76.54,
           76.33,
           76.07,
           75.75,
           75.47,
           75.06,
           74.67,
           73.58,
           72.51,
           71.41,
           70.73,
           70.08,
           69.58,
           69.19,
           68.57,
           68.09,
           67.78,
           67.6,
           67.37,
           67.18,
           66.95,
           66.68,
           66.42,
           66.16,
           65.68,
           65.18
          ],
          "sizemode": "area",
          "sizeref": 0.5357638888888889,
          "symbol": "circle"
         },
         "mode": "markers",
         "name": "CHN",
         "showlegend": true,
         "type": "scatter",
         "x": [
          2.4000000953674303,
          2.4000000953674303,
          2.70000004768372,
          2.9000000953674303,
          3,
          3.0999999046325697,
          3.20000004768372,
          3.20000004768372,
          3.29999995231628,
          3.29999995231628,
          3.79999995231628,
          4.19999980926514,
          4.59999990463257,
          4.5,
          4.5,
          4.40000009536743,
          4.30000019073486,
          4.59999990463257,
          4.699999809265139,
          4.5,
          4.5,
          4.59999990463257,
          4.59999990463257,
          4.59999990463257,
          4.59999990463257,
          4.5,
          4.40000009536743,
          4.41699981689453,
          4.4239997863769505
         ],
         "xaxis": "x",
         "y": [
          79.0479965209961,
          78.9830017089844,
          78.9209976196289,
          78.8310012817383,
          78.69000244140629,
          78.4980010986328,
          78.2570037841797,
          77.963996887207,
          77.6159973144531,
          77.2170028686523,
          76.4909973144531,
          75.68699645996091,
          74.8519973754883,
          74.0660018920898,
          73.3789978027344,
          72.786003112793,
          72.3010025024414,
          71.879997253418,
          71.4509963989258,
          70.9729995727539,
          70.7850036621094,
          70.61900329589841,
          70.41400146484379,
          70.181999206543,
          69.8939971923828,
          69.55100250244139,
          69.2089996337891,
          68.7190017700195,
          68.1920013427734
         ],
         "yaxis": "y"
        },
        {
         "customdata": [
          [
           1991,
           42.1
          ],
          [
           1992,
           41.03
          ],
          [
           1993,
           38.82
          ],
          [
           1994,
           38.05
          ],
          [
           1995,
           38.65
          ],
          [
           1996,
           39.17
          ],
          [
           1997,
           40.29
          ],
          [
           1998,
           41.61
          ],
          [
           1999,
           43.71
          ],
          [
           2000,
           45.53
          ],
          [
           2001,
           46.73
          ],
          [
           2002,
           47.71
          ],
          [
           2003,
           48.65
          ],
          [
           2004,
           49.53
          ],
          [
           2005,
           51.62
          ],
          [
           2006,
           52.75
          ],
          [
           2007,
           53.32
          ],
          [
           2008,
           52.21
          ],
          [
           2009,
           48.5
          ],
          [
           2010,
           47.51
          ],
          [
           2011,
           46.58
          ],
          [
           2012,
           44.57
          ],
          [
           2013,
           43.54
          ],
          [
           2014,
           44.21
          ],
          [
           2015,
           45.47
          ],
          [
           2016,
           46.69
          ],
          [
           2017,
           47.75
          ],
          [
           2018,
           48.46
          ],
          [
           2019,
           48.59
          ]
         ],
         "hoverlabel": {
          "namelength": 0
         },
         "hovertemplate": "<b>%{hovertext}</b><br><br>Country Code=ESP<br>UR=%{x}<br>LFPR=%{y}<br>E/pop=%{customdata[1]}<br>year=%{customdata[0]}",
         "hovertext": [
          "Spain",
          "Spain",
          "Spain",
          "Spain",
          "Spain",
          "Spain",
          "Spain",
          "Spain",
          "Spain",
          "Spain",
          "Spain",
          "Spain",
          "Spain",
          "Spain",
          "Spain",
          "Spain",
          "Spain",
          "Spain",
          "Spain",
          "Spain",
          "Spain",
          "Spain",
          "Spain",
          "Spain",
          "Spain",
          "Spain",
          "Spain",
          "Spain",
          "Spain"
         ],
         "legendgroup": "Country Code=ESP",
         "marker": {
          "color": "#cb495c",
          "size": [
           42.1,
           41.03,
           38.82,
           38.05,
           38.65,
           39.17,
           40.29,
           41.61,
           43.71,
           45.53,
           46.73,
           47.71,
           48.65,
           49.53,
           51.62,
           52.75,
           53.32,
           52.21,
           48.5,
           47.51,
           46.58,
           44.57,
           43.54,
           44.21,
           45.47,
           46.69,
           47.75,
           48.46,
           48.59
          ],
          "sizemode": "area",
          "sizeref": 0.5357638888888889,
          "symbol": "circle"
         },
         "mode": "markers",
         "name": "ESP",
         "showlegend": true,
         "type": "scatter",
         "x": [
          15.9289999008179,
          17.701000213623,
          22.1609992980957,
          24.2089996337891,
          22.6749992370605,
          22.1420001983643,
          20.6979999542236,
          18.673999786377,
          15.4759998321533,
          13.7849998474121,
          10.347999572753901,
          11.145999908447301,
          11.2829999923706,
          11.0900001525879,
          9.14599990844727,
          8.451999664306639,
          8.23200035095215,
          11.253999710083,
          17.857000350952102,
          19.8600006103516,
          21.3899993896484,
          24.787000656127898,
          26.0939998626709,
          24.4409999847412,
          22.056999206543,
          19.6350002288818,
          17.2240009307861,
          15.4870004653931,
          14.6999998092651
         ],
         "xaxis": "x",
         "y": [
          50.0810012817383,
          49.856998443603494,
          49.87699890136721,
          50.202999114990206,
          49.978000640869105,
          50.316001892089794,
          50.8030014038086,
          51.1669998168945,
          51.7089996337891,
          52.8139991760254,
          52.120998382568395,
          53.694000244140604,
          54.834999084472706,
          55.7039985656738,
          56.8199996948242,
          57.619998931884794,
          58.104000091552706,
          58.8359985351563,
          59.0390014648438,
          59.2830009460449,
          59.2569999694824,
          59.2560005187988,
          58.909000396728494,
          58.5099983215332,
          58.340999603271506,
          58.101001739502,
          57.6829986572266,
          57.3440017700195,
          56.9669990539551
         ],
         "yaxis": "y"
        },
        {
         "customdata": [
          [
           1991,
           50.21
          ],
          [
           1992,
           49.68
          ],
          [
           1993,
           49.03
          ],
          [
           1994,
           48.24
          ],
          [
           1995,
           48.67
          ],
          [
           1996,
           48.71
          ],
          [
           1997,
           48.3
          ],
          [
           1998,
           48.63
          ],
          [
           1999,
           48.92
          ],
          [
           2000,
           49.87
          ],
          [
           2001,
           50.49
          ],
          [
           2002,
           50.64
          ],
          [
           2003,
           51.47
          ],
          [
           2004,
           51.06
          ],
          [
           2005,
           51.39
          ],
          [
           2006,
           51.3
          ],
          [
           2007,
           51.84
          ],
          [
           2008,
           52.25
          ],
          [
           2009,
           51.46
          ],
          [
           2010,
           51.29
          ],
          [
           2011,
           51.07
          ],
          [
           2012,
           50.88
          ],
          [
           2013,
           50.54
          ],
          [
           2014,
           49.97
          ],
          [
           2015,
           49.82
          ],
          [
           2016,
           49.85
          ],
          [
           2017,
           50.06
          ],
          [
           2018,
           50
          ],
          [
           2019,
           49.88
          ]
         ],
         "hoverlabel": {
          "namelength": 0
         },
         "hovertemplate": "<b>%{hovertext}</b><br><br>Country Code=FRA<br>UR=%{x}<br>LFPR=%{y}<br>E/pop=%{customdata[1]}<br>year=%{customdata[0]}",
         "hovertext": [
          "France",
          "France",
          "France",
          "France",
          "France",
          "France",
          "France",
          "France",
          "France",
          "France",
          "France",
          "France",
          "France",
          "France",
          "France",
          "France",
          "France",
          "France",
          "France",
          "France",
          "France",
          "France",
          "France",
          "France",
          "France",
          "France",
          "France",
          "France",
          "France"
         ],
         "legendgroup": "Country Code=FRA",
         "marker": {
          "color": "#06ab54",
          "size": [
           50.21,
           49.68,
           49.03,
           48.24,
           48.67,
           48.71,
           48.3,
           48.63,
           48.92,
           49.87,
           50.49,
           50.64,
           51.47,
           51.06,
           51.39,
           51.3,
           51.84,
           52.25,
           51.46,
           51.29,
           51.07,
           50.88,
           50.54,
           49.97,
           49.82,
           49.85,
           50.06,
           50,
           49.88
          ],
          "sizemode": "area",
          "sizeref": 0.5357638888888889,
          "symbol": "circle"
         },
         "mode": "markers",
         "name": "FRA",
         "showlegend": true,
         "type": "scatter",
         "x": [
          9.13399982452393,
          10.2049999237061,
          11.3210000991821,
          12.5930004119873,
          11.836000442504899,
          12.366999626159698,
          12.565999984741199,
          12.0749998092651,
          11.980999946594201,
          10.2170000076294,
          8.60999965667725,
          8.701999664306639,
          8.30599975585938,
          8.913999557495119,
          8.49300003051758,
          8.447999954223631,
          7.65700006484985,
          7.0630002021789595,
          8.73600006103516,
          8.87100028991699,
          8.81099987030029,
          9.39999961853027,
          9.920999526977539,
          10.291999816894501,
          10.359000205993699,
          10.057000160217301,
          9.39700031280518,
          9.18000030517578,
          9.09899997711182
         ],
         "xaxis": "x",
         "y": [
          55.2569999694824,
          55.33000183105471,
          55.29499816894529,
          55.1860008239746,
          55.201000213623,
          55.5890007019043,
          55.2410011291504,
          55.306999206543,
          55.574001312255895,
          55.54499816894529,
          55.2470016479492,
          55.4710006713867,
          56.132999420165994,
          56.0530014038086,
          56.154998779296896,
          56.0330009460449,
          56.143001556396506,
          56.2249984741211,
          56.3860015869141,
          56.2820014953613,
          56.0029983520508,
          56.1640014648438,
          56.111000061035206,
          55.699001312255895,
          55.577999114990206,
          55.4210014343262,
          55.2529983520508,
          55.0579986572266,
          54.8759994506836
         ],
         "yaxis": "y"
        },
        {
         "customdata": [
          [
           1991,
           56.85
          ],
          [
           1992,
           55.69
          ],
          [
           1993,
           54.85
          ],
          [
           1994,
           55.1
          ],
          [
           1995,
           55.53
          ],
          [
           1996,
           55.88
          ],
          [
           1997,
           56.72
          ],
          [
           1998,
           57.15
          ],
          [
           1999,
           57.55
          ],
          [
           2000,
           58.02
          ],
          [
           2001,
           58.12
          ],
          [
           2002,
           58.16
          ],
          [
           2003,
           58.41
          ],
          [
           2004,
           58.59
          ],
          [
           2005,
           58.81
          ],
          [
           2006,
           58.76
          ],
          [
           2007,
           58.66
          ],
          [
           2008,
           58.69
          ],
          [
           2009,
           57.34
          ],
          [
           2010,
           57.02
          ],
          [
           2011,
           56.78
          ],
          [
           2012,
           57.09
          ],
          [
           2013,
           57.45
          ],
          [
           2014,
           58.4
          ],
          [
           2015,
           58.94
          ],
          [
           2016,
           59.35
          ],
          [
           2017,
           59.61
          ],
          [
           2018,
           59.85
          ],
          [
           2019,
           59.93
          ]
         ],
         "hoverlabel": {
          "namelength": 0
         },
         "hovertemplate": "<b>%{hovertext}</b><br><br>Country Code=GBR<br>UR=%{x}<br>LFPR=%{y}<br>E/pop=%{customdata[1]}<br>year=%{customdata[0]}",
         "hovertext": [
          "United Kingdom",
          "United Kingdom",
          "United Kingdom",
          "United Kingdom",
          "United Kingdom",
          "United Kingdom",
          "United Kingdom",
          "United Kingdom",
          "United Kingdom",
          "United Kingdom",
          "United Kingdom",
          "United Kingdom",
          "United Kingdom",
          "United Kingdom",
          "United Kingdom",
          "United Kingdom",
          "United Kingdom",
          "United Kingdom",
          "United Kingdom",
          "United Kingdom",
          "United Kingdom",
          "United Kingdom",
          "United Kingdom",
          "United Kingdom",
          "United Kingdom",
          "United Kingdom",
          "United Kingdom",
          "United Kingdom",
          "United Kingdom"
         ],
         "legendgroup": "Country Code=GBR",
         "marker": {
          "color": "#002070",
          "size": [
           56.85,
           55.69,
           54.85,
           55.1,
           55.53,
           55.88,
           56.72,
           57.15,
           57.55,
           58.02,
           58.12,
           58.16,
           58.41,
           58.59,
           58.81,
           58.76,
           58.66,
           58.69,
           57.34,
           57.02,
           56.78,
           57.09,
           57.45,
           58.4,
           58.94,
           59.35,
           59.61,
           59.85,
           59.93
          ],
          "sizemode": "area",
          "sizeref": 0.5357638888888889,
          "symbol": "circle"
         },
         "mode": "markers",
         "name": "GBR",
         "showlegend": true,
         "type": "scatter",
         "x": [
          8.552000045776369,
          9.77700042724609,
          10.347999572753901,
          9.64999961853027,
          8.69400024414063,
          8.19200038909912,
          7.07200002670288,
          6.20300006866455,
          6.0430002212524405,
          5.5619997978210405,
          4.69500017166138,
          5.03700017929077,
          4.80700016021729,
          4.5939998626709,
          4.75,
          5.34999990463257,
          5.26200008392334,
          5.6149997711181605,
          7.537000179290769,
          7.787000179290769,
          8.036999702453612,
          7.8850002288818395,
          7.525000095367429,
          6.110000133514401,
          5.30100011825562,
          4.8130002021789595,
          4.33500003814697,
          3.9539999961852996,
          3.8090000152587904
         ],
         "xaxis": "x",
         "y": [
          62.1669998168945,
          61.728000640869105,
          61.176998138427706,
          60.987998962402294,
          60.8170013427734,
          60.8650016784668,
          61.040000915527294,
          60.935001373290994,
          61.25,
          61.439998626709006,
          60.987998962402294,
          61.245998382568395,
          61.362998962402294,
          61.4070014953613,
          61.745998382568395,
          62.077999114990206,
          61.922000885009794,
          62.1870002746582,
          62.018001556396506,
          61.8339996337891,
          61.7430000305176,
          61.9770011901855,
          62.1259994506836,
          62.2039985656738,
          62.2400016784668,
          62.3499984741211,
          62.3110008239746,
          62.3170013427734,
          62.2999992370605
         ],
         "yaxis": "y"
        },
        {
         "customdata": [
          [
           1991,
           57.21
          ],
          [
           1992,
           57.17
          ],
          [
           1993,
           57.08
          ],
          [
           1994,
           57.12
          ],
          [
           1995,
           56.94
          ],
          [
           1996,
           56.71
          ],
          [
           1997,
           56.54
          ],
          [
           1998,
           56.32
          ],
          [
           1999,
           56.09
          ],
          [
           2000,
           55.92
          ],
          [
           2001,
           56.02
          ],
          [
           2002,
           56.1
          ],
          [
           2003,
           56.22
          ],
          [
           2004,
           56.47
          ],
          [
           2005,
           56.69
          ],
          [
           2006,
           55.99
          ],
          [
           2007,
           55.3
          ],
          [
           2008,
           54.52
          ],
          [
           2009,
           53.57
          ],
          [
           2010,
           52.77
          ],
          [
           2011,
           51.82
          ],
          [
           2012,
           50.85
          ],
          [
           2013,
           50.78
          ],
          [
           2014,
           50.8
          ],
          [
           2015,
           50.76
          ],
          [
           2016,
           50.71
          ],
          [
           2017,
           50.72
          ],
          [
           2018,
           50.6
          ],
          [
           2019,
           50.49
          ]
         ],
         "hoverlabel": {
          "namelength": 0
         },
         "hovertemplate": "<b>%{hovertext}</b><br><br>Country Code=IND<br>UR=%{x}<br>LFPR=%{y}<br>E/pop=%{customdata[1]}<br>year=%{customdata[0]}",
         "hovertext": [
          "India",
          "India",
          "India",
          "India",
          "India",
          "India",
          "India",
          "India",
          "India",
          "India",
          "India",
          "India",
          "India",
          "India",
          "India",
          "India",
          "India",
          "India",
          "India",
          "India",
          "India",
          "India",
          "India",
          "India",
          "India",
          "India",
          "India",
          "India",
          "India"
         ],
         "legendgroup": "Country Code=IND",
         "marker": {
          "color": "#f47915",
          "size": [
           57.21,
           57.17,
           57.08,
           57.12,
           56.94,
           56.71,
           56.54,
           56.32,
           56.09,
           55.92,
           56.02,
           56.1,
           56.22,
           56.47,
           56.69,
           55.99,
           55.3,
           54.52,
           53.57,
           52.77,
           51.82,
           50.85,
           50.78,
           50.8,
           50.76,
           50.71,
           50.72,
           50.6,
           50.49
          ],
          "sizemode": "area",
          "sizeref": 0.5357638888888889,
          "symbol": "circle"
         },
         "mode": "markers",
         "name": "IND",
         "showlegend": true,
         "type": "scatter",
         "x": [
          2.3610000610351602,
          2.40799999237061,
          2.5729999542236297,
          2.5910000801086404,
          2.6110000610351602,
          2.6649999618530296,
          2.63000011444092,
          2.6710000038147004,
          2.74399995803833,
          2.73099994659424,
          2.86800003051758,
          3.0520000457763703,
          3.18199992179871,
          3.0980000495910605,
          3.10199999809265,
          2.73699998855591,
          2.3989999294281,
          2.26799988746643,
          2.4749999046325697,
          2.44400000572205,
          2.5190000534057595,
          2.6900000572204603,
          2.8229999542236297,
          2.76500010490417,
          2.78200006484985,
          2.7300000190734903,
          2.55699992179871,
          2.55100011825562,
          2.55100011825562
         ],
         "xaxis": "x",
         "y": [
          58.59700012207029,
          58.58000183105471,
          58.5919990539551,
          58.6360015869141,
          58.4630012512207,
          58.2630004882813,
          58.0629997253418,
          57.8650016784668,
          57.673999786377,
          57.4930000305176,
          57.672000885009794,
          57.8619995117188,
          58.0629997253418,
          58.2760009765625,
          58.5,
          57.5639991760254,
          56.6599998474121,
          55.7830009460449,
          54.9280014038086,
          54.090999603271506,
          53.154998779296896,
          52.25199890136721,
          52.2560005187988,
          52.2439994812012,
          52.2080001831055,
          52.1349983215332,
          52.048000335693395,
          51.925998687744105,
          51.806999206543
         ],
         "yaxis": "y"
        },
        {
         "customdata": [
          [
           1991,
           58.48
          ],
          [
           1992,
           58.08
          ],
          [
           1993,
           57.85
          ],
          [
           1994,
           58.7
          ],
          [
           1995,
           59.1
          ],
          [
           1996,
           61.13
          ],
          [
           1997,
           62.78
          ],
          [
           1998,
           64.36
          ],
          [
           1999,
           64.46
          ],
          [
           2000,
           64.6
          ],
          [
           2001,
           64.38
          ],
          [
           2002,
           64.38
          ],
          [
           2003,
           63.03
          ],
          [
           2004,
           62.92
          ],
          [
           2005,
           62.55
          ],
          [
           2006,
           63.45
          ],
          [
           2007,
           64.74
          ],
          [
           2008,
           65.69
          ],
          [
           2009,
           64.37
          ],
          [
           2010,
           63.38
          ],
          [
           2011,
           63.1
          ],
          [
           2012,
           63.26
          ],
          [
           2013,
           62.77
          ],
          [
           2014,
           62.46
          ],
          [
           2015,
           62.1
          ],
          [
           2016,
           61.36
          ],
          [
           2017,
           60.94
          ],
          [
           2018,
           60.99
          ],
          [
           2019,
           60.85
          ]
         ],
         "hoverlabel": {
          "namelength": 0
         },
         "hovertemplate": "<b>%{hovertext}</b><br><br>Country Code=NOR<br>UR=%{x}<br>LFPR=%{y}<br>E/pop=%{customdata[1]}<br>year=%{customdata[0]}",
         "hovertext": [
          "Norway",
          "Norway",
          "Norway",
          "Norway",
          "Norway",
          "Norway",
          "Norway",
          "Norway",
          "Norway",
          "Norway",
          "Norway",
          "Norway",
          "Norway",
          "Norway",
          "Norway",
          "Norway",
          "Norway",
          "Norway",
          "Norway",
          "Norway",
          "Norway",
          "Norway",
          "Norway",
          "Norway",
          "Norway",
          "Norway",
          "Norway",
          "Norway",
          "Norway"
         ],
         "legendgroup": "Country Code=NOR",
         "marker": {
          "color": "#165aa7",
          "size": [
           58.48,
           58.08,
           57.85,
           58.7,
           59.1,
           61.13,
           62.78,
           64.36,
           64.46,
           64.6,
           64.38,
           64.38,
           63.03,
           62.92,
           62.55,
           63.45,
           64.74,
           65.69,
           64.37,
           63.38,
           63.1,
           63.26,
           62.77,
           62.46,
           62.1,
           61.36,
           60.94,
           60.99,
           60.85
          ],
          "sizemode": "area",
          "sizeref": 0.5357638888888889,
          "symbol": "circle"
         },
         "mode": "markers",
         "name": "NOR",
         "showlegend": true,
         "type": "scatter",
         "x": [
          5.40700006484985,
          5.90999984741211,
          5.96500015258789,
          5.348999977111821,
          6.30700016021729,
          5.03599977493286,
          4.6869997978210405,
          3.73699998855591,
          3.24699997901917,
          3.45799994468689,
          3.73799991607666,
          4.02199983596802,
          4.22100019454956,
          4.25600004196167,
          4.38100004196167,
          3.3989999294281,
          2.4930000305175803,
          2.5499999523162797,
          3.1029999256133998,
          3.5209999084472696,
          3.21499991416931,
          3.12299990653992,
          3.42300009727478,
          3.4839999675750697,
          4.2960000038147,
          4.67899990081787,
          4.162000179290771,
          3.9189999103546103,
          3.9670000076293905
         ],
         "xaxis": "x",
         "y": [
          61.8199996948242,
          61.733001708984396,
          61.5229988098145,
          62.0130004882813,
          63.082000732421896,
          64.370002746582,
          65.8629989624023,
          66.8600006103516,
          66.62400054931639,
          66.9150009155273,
          66.87599945068361,
          67.08200073242189,
          65.80300140380861,
          65.7210006713867,
          65.4199981689453,
          65.68099975585939,
          66.3960037231445,
          67.411003112793,
          66.43099975585939,
          65.6910018920898,
          65.197998046875,
          65.2939987182617,
          64.99099731445311,
          64.7190017700195,
          64.8889999389648,
          64.3720016479492,
          63.590999603271506,
          63.478000640869105,
          63.362998962402294
         ],
         "yaxis": "y"
        }
       ],
       "layout": {
        "height": 500,
        "legend": {
         "itemsizing": "constant",
         "tracegroupgap": 0
        },
        "margin": {
         "t": 60
        },
        "template": {
         "data": {
          "bar": [
           {
            "error_x": {
             "color": "#2a3f5f"
            },
            "error_y": {
             "color": "#2a3f5f"
            },
            "marker": {
             "line": {
              "color": "white",
              "width": 0.5
             }
            },
            "type": "bar"
           }
          ],
          "barpolar": [
           {
            "marker": {
             "line": {
              "color": "white",
              "width": 0.5
             }
            },
            "type": "barpolar"
           }
          ],
          "carpet": [
           {
            "aaxis": {
             "endlinecolor": "#2a3f5f",
             "gridcolor": "#C8D4E3",
             "linecolor": "#C8D4E3",
             "minorgridcolor": "#C8D4E3",
             "startlinecolor": "#2a3f5f"
            },
            "baxis": {
             "endlinecolor": "#2a3f5f",
             "gridcolor": "#C8D4E3",
             "linecolor": "#C8D4E3",
             "minorgridcolor": "#C8D4E3",
             "startlinecolor": "#2a3f5f"
            },
            "type": "carpet"
           }
          ],
          "choropleth": [
           {
            "colorbar": {
             "outlinewidth": 0,
             "ticks": ""
            },
            "type": "choropleth"
           }
          ],
          "contour": [
           {
            "colorbar": {
             "outlinewidth": 0,
             "ticks": ""
            },
            "colorscale": [
             [
              0,
              "#0d0887"
             ],
             [
              0.1111111111111111,
              "#46039f"
             ],
             [
              0.2222222222222222,
              "#7201a8"
             ],
             [
              0.3333333333333333,
              "#9c179e"
             ],
             [
              0.4444444444444444,
              "#bd3786"
             ],
             [
              0.5555555555555556,
              "#d8576b"
             ],
             [
              0.6666666666666666,
              "#ed7953"
             ],
             [
              0.7777777777777778,
              "#fb9f3a"
             ],
             [
              0.8888888888888888,
              "#fdca26"
             ],
             [
              1,
              "#f0f921"
             ]
            ],
            "type": "contour"
           }
          ],
          "contourcarpet": [
           {
            "colorbar": {
             "outlinewidth": 0,
             "ticks": ""
            },
            "type": "contourcarpet"
           }
          ],
          "heatmap": [
           {
            "colorbar": {
             "outlinewidth": 0,
             "ticks": ""
            },
            "colorscale": [
             [
              0,
              "#0d0887"
             ],
             [
              0.1111111111111111,
              "#46039f"
             ],
             [
              0.2222222222222222,
              "#7201a8"
             ],
             [
              0.3333333333333333,
              "#9c179e"
             ],
             [
              0.4444444444444444,
              "#bd3786"
             ],
             [
              0.5555555555555556,
              "#d8576b"
             ],
             [
              0.6666666666666666,
              "#ed7953"
             ],
             [
              0.7777777777777778,
              "#fb9f3a"
             ],
             [
              0.8888888888888888,
              "#fdca26"
             ],
             [
              1,
              "#f0f921"
             ]
            ],
            "type": "heatmap"
           }
          ],
          "heatmapgl": [
           {
            "colorbar": {
             "outlinewidth": 0,
             "ticks": ""
            },
            "colorscale": [
             [
              0,
              "#0d0887"
             ],
             [
              0.1111111111111111,
              "#46039f"
             ],
             [
              0.2222222222222222,
              "#7201a8"
             ],
             [
              0.3333333333333333,
              "#9c179e"
             ],
             [
              0.4444444444444444,
              "#bd3786"
             ],
             [
              0.5555555555555556,
              "#d8576b"
             ],
             [
              0.6666666666666666,
              "#ed7953"
             ],
             [
              0.7777777777777778,
              "#fb9f3a"
             ],
             [
              0.8888888888888888,
              "#fdca26"
             ],
             [
              1,
              "#f0f921"
             ]
            ],
            "type": "heatmapgl"
           }
          ],
          "histogram": [
           {
            "marker": {
             "colorbar": {
              "outlinewidth": 0,
              "ticks": ""
             }
            },
            "type": "histogram"
           }
          ],
          "histogram2d": [
           {
            "colorbar": {
             "outlinewidth": 0,
             "ticks": ""
            },
            "colorscale": [
             [
              0,
              "#0d0887"
             ],
             [
              0.1111111111111111,
              "#46039f"
             ],
             [
              0.2222222222222222,
              "#7201a8"
             ],
             [
              0.3333333333333333,
              "#9c179e"
             ],
             [
              0.4444444444444444,
              "#bd3786"
             ],
             [
              0.5555555555555556,
              "#d8576b"
             ],
             [
              0.6666666666666666,
              "#ed7953"
             ],
             [
              0.7777777777777778,
              "#fb9f3a"
             ],
             [
              0.8888888888888888,
              "#fdca26"
             ],
             [
              1,
              "#f0f921"
             ]
            ],
            "type": "histogram2d"
           }
          ],
          "histogram2dcontour": [
           {
            "colorbar": {
             "outlinewidth": 0,
             "ticks": ""
            },
            "colorscale": [
             [
              0,
              "#0d0887"
             ],
             [
              0.1111111111111111,
              "#46039f"
             ],
             [
              0.2222222222222222,
              "#7201a8"
             ],
             [
              0.3333333333333333,
              "#9c179e"
             ],
             [
              0.4444444444444444,
              "#bd3786"
             ],
             [
              0.5555555555555556,
              "#d8576b"
             ],
             [
              0.6666666666666666,
              "#ed7953"
             ],
             [
              0.7777777777777778,
              "#fb9f3a"
             ],
             [
              0.8888888888888888,
              "#fdca26"
             ],
             [
              1,
              "#f0f921"
             ]
            ],
            "type": "histogram2dcontour"
           }
          ],
          "mesh3d": [
           {
            "colorbar": {
             "outlinewidth": 0,
             "ticks": ""
            },
            "type": "mesh3d"
           }
          ],
          "parcoords": [
           {
            "line": {
             "colorbar": {
              "outlinewidth": 0,
              "ticks": ""
             }
            },
            "type": "parcoords"
           }
          ],
          "pie": [
           {
            "automargin": true,
            "type": "pie"
           }
          ],
          "scatter": [
           {
            "marker": {
             "colorbar": {
              "outlinewidth": 0,
              "ticks": ""
             }
            },
            "type": "scatter"
           }
          ],
          "scatter3d": [
           {
            "line": {
             "colorbar": {
              "outlinewidth": 0,
              "ticks": ""
             }
            },
            "marker": {
             "colorbar": {
              "outlinewidth": 0,
              "ticks": ""
             }
            },
            "type": "scatter3d"
           }
          ],
          "scattercarpet": [
           {
            "marker": {
             "colorbar": {
              "outlinewidth": 0,
              "ticks": ""
             }
            },
            "type": "scattercarpet"
           }
          ],
          "scattergeo": [
           {
            "marker": {
             "colorbar": {
              "outlinewidth": 0,
              "ticks": ""
             }
            },
            "type": "scattergeo"
           }
          ],
          "scattergl": [
           {
            "marker": {
             "colorbar": {
              "outlinewidth": 0,
              "ticks": ""
             }
            },
            "type": "scattergl"
           }
          ],
          "scattermapbox": [
           {
            "marker": {
             "colorbar": {
              "outlinewidth": 0,
              "ticks": ""
             }
            },
            "type": "scattermapbox"
           }
          ],
          "scatterpolar": [
           {
            "marker": {
             "colorbar": {
              "outlinewidth": 0,
              "ticks": ""
             }
            },
            "type": "scatterpolar"
           }
          ],
          "scatterpolargl": [
           {
            "marker": {
             "colorbar": {
              "outlinewidth": 0,
              "ticks": ""
             }
            },
            "type": "scatterpolargl"
           }
          ],
          "scatterternary": [
           {
            "marker": {
             "colorbar": {
              "outlinewidth": 0,
              "ticks": ""
             }
            },
            "type": "scatterternary"
           }
          ],
          "surface": [
           {
            "colorbar": {
             "outlinewidth": 0,
             "ticks": ""
            },
            "colorscale": [
             [
              0,
              "#0d0887"
             ],
             [
              0.1111111111111111,
              "#46039f"
             ],
             [
              0.2222222222222222,
              "#7201a8"
             ],
             [
              0.3333333333333333,
              "#9c179e"
             ],
             [
              0.4444444444444444,
              "#bd3786"
             ],
             [
              0.5555555555555556,
              "#d8576b"
             ],
             [
              0.6666666666666666,
              "#ed7953"
             ],
             [
              0.7777777777777778,
              "#fb9f3a"
             ],
             [
              0.8888888888888888,
              "#fdca26"
             ],
             [
              1,
              "#f0f921"
             ]
            ],
            "type": "surface"
           }
          ],
          "table": [
           {
            "cells": {
             "fill": {
              "color": "#EBF0F8"
             },
             "line": {
              "color": "white"
             }
            },
            "header": {
             "fill": {
              "color": "#C8D4E3"
             },
             "line": {
              "color": "white"
             }
            },
            "type": "table"
           }
          ]
         },
         "layout": {
          "annotationdefaults": {
           "arrowcolor": "#2a3f5f",
           "arrowhead": 0,
           "arrowwidth": 1
          },
          "coloraxis": {
           "colorbar": {
            "outlinewidth": 0,
            "ticks": ""
           }
          },
          "colorscale": {
           "diverging": [
            [
             0,
             "#8e0152"
            ],
            [
             0.1,
             "#c51b7d"
            ],
            [
             0.2,
             "#de77ae"
            ],
            [
             0.3,
             "#f1b6da"
            ],
            [
             0.4,
             "#fde0ef"
            ],
            [
             0.5,
             "#f7f7f7"
            ],
            [
             0.6,
             "#e6f5d0"
            ],
            [
             0.7,
             "#b8e186"
            ],
            [
             0.8,
             "#7fbc41"
            ],
            [
             0.9,
             "#4d9221"
            ],
            [
             1,
             "#276419"
            ]
           ],
           "sequential": [
            [
             0,
             "#0d0887"
            ],
            [
             0.1111111111111111,
             "#46039f"
            ],
            [
             0.2222222222222222,
             "#7201a8"
            ],
            [
             0.3333333333333333,
             "#9c179e"
            ],
            [
             0.4444444444444444,
             "#bd3786"
            ],
            [
             0.5555555555555556,
             "#d8576b"
            ],
            [
             0.6666666666666666,
             "#ed7953"
            ],
            [
             0.7777777777777778,
             "#fb9f3a"
            ],
            [
             0.8888888888888888,
             "#fdca26"
            ],
            [
             1,
             "#f0f921"
            ]
           ],
           "sequentialminus": [
            [
             0,
             "#0d0887"
            ],
            [
             0.1111111111111111,
             "#46039f"
            ],
            [
             0.2222222222222222,
             "#7201a8"
            ],
            [
             0.3333333333333333,
             "#9c179e"
            ],
            [
             0.4444444444444444,
             "#bd3786"
            ],
            [
             0.5555555555555556,
             "#d8576b"
            ],
            [
             0.6666666666666666,
             "#ed7953"
            ],
            [
             0.7777777777777778,
             "#fb9f3a"
            ],
            [
             0.8888888888888888,
             "#fdca26"
            ],
            [
             1,
             "#f0f921"
            ]
           ]
          },
          "colorway": [
           "#636efa",
           "#EF553B",
           "#00cc96",
           "#ab63fa",
           "#FFA15A",
           "#19d3f3",
           "#FF6692",
           "#B6E880",
           "#FF97FF",
           "#FECB52"
          ],
          "font": {
           "color": "#2a3f5f"
          },
          "geo": {
           "bgcolor": "white",
           "lakecolor": "white",
           "landcolor": "white",
           "showlakes": true,
           "showland": true,
           "subunitcolor": "#C8D4E3"
          },
          "hoverlabel": {
           "align": "left"
          },
          "hovermode": "closest",
          "mapbox": {
           "style": "light"
          },
          "paper_bgcolor": "white",
          "plot_bgcolor": "white",
          "polar": {
           "angularaxis": {
            "gridcolor": "#EBF0F8",
            "linecolor": "#EBF0F8",
            "ticks": ""
           },
           "bgcolor": "white",
           "radialaxis": {
            "gridcolor": "#EBF0F8",
            "linecolor": "#EBF0F8",
            "ticks": ""
           }
          },
          "scene": {
           "xaxis": {
            "backgroundcolor": "white",
            "gridcolor": "#DFE8F3",
            "gridwidth": 2,
            "linecolor": "#EBF0F8",
            "showbackground": true,
            "ticks": "",
            "zerolinecolor": "#EBF0F8"
           },
           "yaxis": {
            "backgroundcolor": "white",
            "gridcolor": "#DFE8F3",
            "gridwidth": 2,
            "linecolor": "#EBF0F8",
            "showbackground": true,
            "ticks": "",
            "zerolinecolor": "#EBF0F8"
           },
           "zaxis": {
            "backgroundcolor": "white",
            "gridcolor": "#DFE8F3",
            "gridwidth": 2,
            "linecolor": "#EBF0F8",
            "showbackground": true,
            "ticks": "",
            "zerolinecolor": "#EBF0F8"
           }
          },
          "shapedefaults": {
           "line": {
            "color": "#2a3f5f"
           }
          },
          "ternary": {
           "aaxis": {
            "gridcolor": "#DFE8F3",
            "linecolor": "#A2B1C6",
            "ticks": ""
           },
           "baxis": {
            "gridcolor": "#DFE8F3",
            "linecolor": "#A2B1C6",
            "ticks": ""
           },
           "bgcolor": "white",
           "caxis": {
            "gridcolor": "#DFE8F3",
            "linecolor": "#A2B1C6",
            "ticks": ""
           }
          },
          "title": {
           "x": 0.05
          },
          "xaxis": {
           "automargin": true,
           "gridcolor": "#EBF0F8",
           "linecolor": "#EBF0F8",
           "ticks": "",
           "title": {
            "standoff": 15
           },
           "zerolinecolor": "#EBF0F8",
           "zerolinewidth": 2
          },
          "yaxis": {
           "automargin": true,
           "gridcolor": "#EBF0F8",
           "linecolor": "#EBF0F8",
           "ticks": "",
           "title": {
            "standoff": 15
           },
           "zerolinecolor": "#EBF0F8",
           "zerolinewidth": 2
          }
         }
        },
        "xaxis": {
         "anchor": "y",
         "domain": [
          0,
          1
         ],
         "title": {
          "text": "UR"
         }
        },
        "yaxis": {
         "anchor": "x",
         "domain": [
          0,
          1
         ],
         "title": {
          "text": "LFPR"
         }
        }
       }
      },
      "text/html": [
       "<div>\n",
       "        \n",
       "        \n",
       "            <div id=\"608cdee5-264f-4eb5-bf55-3fa351bd3868\" class=\"plotly-graph-div\" style=\"height:500px; width:100%;\"></div>\n",
       "            <script type=\"text/javascript\">\n",
       "                require([\"plotly\"], function(Plotly) {\n",
       "                    window.PLOTLYENV=window.PLOTLYENV || {};\n",
       "                    \n",
       "                if (document.getElementById(\"608cdee5-264f-4eb5-bf55-3fa351bd3868\")) {\n",
       "                    Plotly.newPlot(\n",
       "                        '608cdee5-264f-4eb5-bf55-3fa351bd3868',\n",
       "                        [{\"customdata\": [[1991.0, 77.15], [1992.0, 77.09], [1993.0, 76.79], [1994.0, 76.54], [1995.0, 76.33], [1996.0, 76.07], [1997.0, 75.75], [1998.0, 75.47], [1999.0, 75.06], [2000.0, 74.67], [2001.0, 73.58], [2002.0, 72.51], [2003.0, 71.41], [2004.0, 70.73], [2005.0, 70.08], [2006.0, 69.58], [2007.0, 69.19], [2008.0, 68.57], [2009.0, 68.09], [2010.0, 67.78], [2011.0, 67.6], [2012.0, 67.37], [2013.0, 67.18], [2014.0, 66.95], [2015.0, 66.68], [2016.0, 66.42], [2017.0, 66.16], [2018.0, 65.68], [2019.0, 65.18]], \"hoverlabel\": {\"namelength\": 0}, \"hovertemplate\": \"<b>%{hovertext}</b><br><br>Country Code=CHN<br>UR=%{x}<br>LFPR=%{y}<br>E/pop=%{customdata[1]}<br>year=%{customdata[0]}\", \"hovertext\": [\"China\", \"China\", \"China\", \"China\", \"China\", \"China\", \"China\", \"China\", \"China\", \"China\", \"China\", \"China\", \"China\", \"China\", \"China\", \"China\", \"China\", \"China\", \"China\", \"China\", \"China\", \"China\", \"China\", \"China\", \"China\", \"China\", \"China\", \"China\", \"China\"], \"legendgroup\": \"Country Code=CHN\", \"marker\": {\"color\": \"#bb60d5\", \"size\": [77.15, 77.09, 76.79, 76.54, 76.33, 76.07, 75.75, 75.47, 75.06, 74.67, 73.58, 72.51, 71.41, 70.73, 70.08, 69.58, 69.19, 68.57, 68.09, 67.78, 67.6, 67.37, 67.18, 66.95, 66.68, 66.42, 66.16, 65.68, 65.18], \"sizemode\": \"area\", \"sizeref\": 0.5357638888888889, \"symbol\": \"circle\"}, \"mode\": \"markers\", \"name\": \"CHN\", \"showlegend\": true, \"type\": \"scatter\", \"x\": [2.4000000953674303, 2.4000000953674303, 2.70000004768372, 2.9000000953674303, 3.0, 3.0999999046325697, 3.20000004768372, 3.20000004768372, 3.29999995231628, 3.29999995231628, 3.79999995231628, 4.19999980926514, 4.59999990463257, 4.5, 4.5, 4.40000009536743, 4.30000019073486, 4.59999990463257, 4.699999809265139, 4.5, 4.5, 4.59999990463257, 4.59999990463257, 4.59999990463257, 4.59999990463257, 4.5, 4.40000009536743, 4.41699981689453, 4.4239997863769505], \"xaxis\": \"x\", \"y\": [79.0479965209961, 78.9830017089844, 78.9209976196289, 78.8310012817383, 78.69000244140629, 78.4980010986328, 78.2570037841797, 77.963996887207, 77.6159973144531, 77.2170028686523, 76.4909973144531, 75.68699645996091, 74.8519973754883, 74.0660018920898, 73.3789978027344, 72.786003112793, 72.3010025024414, 71.879997253418, 71.4509963989258, 70.9729995727539, 70.7850036621094, 70.61900329589841, 70.41400146484379, 70.181999206543, 69.8939971923828, 69.55100250244139, 69.2089996337891, 68.7190017700195, 68.1920013427734], \"yaxis\": \"y\"}, {\"customdata\": [[1991.0, 42.1], [1992.0, 41.03], [1993.0, 38.82], [1994.0, 38.05], [1995.0, 38.65], [1996.0, 39.17], [1997.0, 40.29], [1998.0, 41.61], [1999.0, 43.71], [2000.0, 45.53], [2001.0, 46.73], [2002.0, 47.71], [2003.0, 48.65], [2004.0, 49.53], [2005.0, 51.62], [2006.0, 52.75], [2007.0, 53.32], [2008.0, 52.21], [2009.0, 48.5], [2010.0, 47.51], [2011.0, 46.58], [2012.0, 44.57], [2013.0, 43.54], [2014.0, 44.21], [2015.0, 45.47], [2016.0, 46.69], [2017.0, 47.75], [2018.0, 48.46], [2019.0, 48.59]], \"hoverlabel\": {\"namelength\": 0}, \"hovertemplate\": \"<b>%{hovertext}</b><br><br>Country Code=ESP<br>UR=%{x}<br>LFPR=%{y}<br>E/pop=%{customdata[1]}<br>year=%{customdata[0]}\", \"hovertext\": [\"Spain\", \"Spain\", \"Spain\", \"Spain\", \"Spain\", \"Spain\", \"Spain\", \"Spain\", \"Spain\", \"Spain\", \"Spain\", \"Spain\", \"Spain\", \"Spain\", \"Spain\", \"Spain\", \"Spain\", \"Spain\", \"Spain\", \"Spain\", \"Spain\", \"Spain\", \"Spain\", \"Spain\", \"Spain\", \"Spain\", \"Spain\", \"Spain\", \"Spain\"], \"legendgroup\": \"Country Code=ESP\", \"marker\": {\"color\": \"#cb495c\", \"size\": [42.1, 41.03, 38.82, 38.05, 38.65, 39.17, 40.29, 41.61, 43.71, 45.53, 46.73, 47.71, 48.65, 49.53, 51.62, 52.75, 53.32, 52.21, 48.5, 47.51, 46.58, 44.57, 43.54, 44.21, 45.47, 46.69, 47.75, 48.46, 48.59], \"sizemode\": \"area\", \"sizeref\": 0.5357638888888889, \"symbol\": \"circle\"}, \"mode\": \"markers\", \"name\": \"ESP\", \"showlegend\": true, \"type\": \"scatter\", \"x\": [15.9289999008179, 17.701000213623, 22.1609992980957, 24.2089996337891, 22.6749992370605, 22.1420001983643, 20.6979999542236, 18.673999786377, 15.4759998321533, 13.7849998474121, 10.347999572753901, 11.145999908447301, 11.2829999923706, 11.0900001525879, 9.14599990844727, 8.451999664306639, 8.23200035095215, 11.253999710083, 17.857000350952102, 19.8600006103516, 21.3899993896484, 24.787000656127898, 26.0939998626709, 24.4409999847412, 22.056999206543, 19.6350002288818, 17.2240009307861, 15.4870004653931, 14.6999998092651], \"xaxis\": \"x\", \"y\": [50.0810012817383, 49.856998443603494, 49.87699890136721, 50.202999114990206, 49.978000640869105, 50.316001892089794, 50.8030014038086, 51.1669998168945, 51.7089996337891, 52.8139991760254, 52.120998382568395, 53.694000244140604, 54.834999084472706, 55.7039985656738, 56.8199996948242, 57.619998931884794, 58.104000091552706, 58.8359985351563, 59.0390014648438, 59.2830009460449, 59.2569999694824, 59.2560005187988, 58.909000396728494, 58.5099983215332, 58.340999603271506, 58.101001739502, 57.6829986572266, 57.3440017700195, 56.9669990539551], \"yaxis\": \"y\"}, {\"customdata\": [[1991.0, 50.21], [1992.0, 49.68], [1993.0, 49.03], [1994.0, 48.24], [1995.0, 48.67], [1996.0, 48.71], [1997.0, 48.3], [1998.0, 48.63], [1999.0, 48.92], [2000.0, 49.87], [2001.0, 50.49], [2002.0, 50.64], [2003.0, 51.47], [2004.0, 51.06], [2005.0, 51.39], [2006.0, 51.3], [2007.0, 51.84], [2008.0, 52.25], [2009.0, 51.46], [2010.0, 51.29], [2011.0, 51.07], [2012.0, 50.88], [2013.0, 50.54], [2014.0, 49.97], [2015.0, 49.82], [2016.0, 49.85], [2017.0, 50.06], [2018.0, 50.0], [2019.0, 49.88]], \"hoverlabel\": {\"namelength\": 0}, \"hovertemplate\": \"<b>%{hovertext}</b><br><br>Country Code=FRA<br>UR=%{x}<br>LFPR=%{y}<br>E/pop=%{customdata[1]}<br>year=%{customdata[0]}\", \"hovertext\": [\"France\", \"France\", \"France\", \"France\", \"France\", \"France\", \"France\", \"France\", \"France\", \"France\", \"France\", \"France\", \"France\", \"France\", \"France\", \"France\", \"France\", \"France\", \"France\", \"France\", \"France\", \"France\", \"France\", \"France\", \"France\", \"France\", \"France\", \"France\", \"France\"], \"legendgroup\": \"Country Code=FRA\", \"marker\": {\"color\": \"#06ab54\", \"size\": [50.21, 49.68, 49.03, 48.24, 48.67, 48.71, 48.3, 48.63, 48.92, 49.87, 50.49, 50.64, 51.47, 51.06, 51.39, 51.3, 51.84, 52.25, 51.46, 51.29, 51.07, 50.88, 50.54, 49.97, 49.82, 49.85, 50.06, 50.0, 49.88], \"sizemode\": \"area\", \"sizeref\": 0.5357638888888889, \"symbol\": \"circle\"}, \"mode\": \"markers\", \"name\": \"FRA\", \"showlegend\": true, \"type\": \"scatter\", \"x\": [9.13399982452393, 10.2049999237061, 11.3210000991821, 12.5930004119873, 11.836000442504899, 12.366999626159698, 12.565999984741199, 12.0749998092651, 11.980999946594201, 10.2170000076294, 8.60999965667725, 8.701999664306639, 8.30599975585938, 8.913999557495119, 8.49300003051758, 8.447999954223631, 7.65700006484985, 7.0630002021789595, 8.73600006103516, 8.87100028991699, 8.81099987030029, 9.39999961853027, 9.920999526977539, 10.291999816894501, 10.359000205993699, 10.057000160217301, 9.39700031280518, 9.18000030517578, 9.09899997711182], \"xaxis\": \"x\", \"y\": [55.2569999694824, 55.33000183105471, 55.29499816894529, 55.1860008239746, 55.201000213623, 55.5890007019043, 55.2410011291504, 55.306999206543, 55.574001312255895, 55.54499816894529, 55.2470016479492, 55.4710006713867, 56.132999420165994, 56.0530014038086, 56.154998779296896, 56.0330009460449, 56.143001556396506, 56.2249984741211, 56.3860015869141, 56.2820014953613, 56.0029983520508, 56.1640014648438, 56.111000061035206, 55.699001312255895, 55.577999114990206, 55.4210014343262, 55.2529983520508, 55.0579986572266, 54.8759994506836], \"yaxis\": \"y\"}, {\"customdata\": [[1991.0, 56.85], [1992.0, 55.69], [1993.0, 54.85], [1994.0, 55.1], [1995.0, 55.53], [1996.0, 55.88], [1997.0, 56.72], [1998.0, 57.15], [1999.0, 57.55], [2000.0, 58.02], [2001.0, 58.12], [2002.0, 58.16], [2003.0, 58.41], [2004.0, 58.59], [2005.0, 58.81], [2006.0, 58.76], [2007.0, 58.66], [2008.0, 58.69], [2009.0, 57.34], [2010.0, 57.02], [2011.0, 56.78], [2012.0, 57.09], [2013.0, 57.45], [2014.0, 58.4], [2015.0, 58.94], [2016.0, 59.35], [2017.0, 59.61], [2018.0, 59.85], [2019.0, 59.93]], \"hoverlabel\": {\"namelength\": 0}, \"hovertemplate\": \"<b>%{hovertext}</b><br><br>Country Code=GBR<br>UR=%{x}<br>LFPR=%{y}<br>E/pop=%{customdata[1]}<br>year=%{customdata[0]}\", \"hovertext\": [\"United Kingdom\", \"United Kingdom\", \"United Kingdom\", \"United Kingdom\", \"United Kingdom\", \"United Kingdom\", \"United Kingdom\", \"United Kingdom\", \"United Kingdom\", \"United Kingdom\", \"United Kingdom\", \"United Kingdom\", \"United Kingdom\", \"United Kingdom\", \"United Kingdom\", \"United Kingdom\", \"United Kingdom\", \"United Kingdom\", \"United Kingdom\", \"United Kingdom\", \"United Kingdom\", \"United Kingdom\", \"United Kingdom\", \"United Kingdom\", \"United Kingdom\", \"United Kingdom\", \"United Kingdom\", \"United Kingdom\", \"United Kingdom\"], \"legendgroup\": \"Country Code=GBR\", \"marker\": {\"color\": \"#002070\", \"size\": [56.85, 55.69, 54.85, 55.1, 55.53, 55.88, 56.72, 57.15, 57.55, 58.02, 58.12, 58.16, 58.41, 58.59, 58.81, 58.76, 58.66, 58.69, 57.34, 57.02, 56.78, 57.09, 57.45, 58.4, 58.94, 59.35, 59.61, 59.85, 59.93], \"sizemode\": \"area\", \"sizeref\": 0.5357638888888889, \"symbol\": \"circle\"}, \"mode\": \"markers\", \"name\": \"GBR\", \"showlegend\": true, \"type\": \"scatter\", \"x\": [8.552000045776369, 9.77700042724609, 10.347999572753901, 9.64999961853027, 8.69400024414063, 8.19200038909912, 7.07200002670288, 6.20300006866455, 6.0430002212524405, 5.5619997978210405, 4.69500017166138, 5.03700017929077, 4.80700016021729, 4.5939998626709, 4.75, 5.34999990463257, 5.26200008392334, 5.6149997711181605, 7.537000179290769, 7.787000179290769, 8.036999702453612, 7.8850002288818395, 7.525000095367429, 6.110000133514401, 5.30100011825562, 4.8130002021789595, 4.33500003814697, 3.9539999961852996, 3.8090000152587904], \"xaxis\": \"x\", \"y\": [62.1669998168945, 61.728000640869105, 61.176998138427706, 60.987998962402294, 60.8170013427734, 60.8650016784668, 61.040000915527294, 60.935001373290994, 61.25, 61.439998626709006, 60.987998962402294, 61.245998382568395, 61.362998962402294, 61.4070014953613, 61.745998382568395, 62.077999114990206, 61.922000885009794, 62.1870002746582, 62.018001556396506, 61.8339996337891, 61.7430000305176, 61.9770011901855, 62.1259994506836, 62.2039985656738, 62.2400016784668, 62.3499984741211, 62.3110008239746, 62.3170013427734, 62.2999992370605], \"yaxis\": \"y\"}, {\"customdata\": [[1991.0, 57.21], [1992.0, 57.17], [1993.0, 57.08], [1994.0, 57.12], [1995.0, 56.94], [1996.0, 56.71], [1997.0, 56.54], [1998.0, 56.32], [1999.0, 56.09], [2000.0, 55.92], [2001.0, 56.02], [2002.0, 56.1], [2003.0, 56.22], [2004.0, 56.47], [2005.0, 56.69], [2006.0, 55.99], [2007.0, 55.3], [2008.0, 54.52], [2009.0, 53.57], [2010.0, 52.77], [2011.0, 51.82], [2012.0, 50.85], [2013.0, 50.78], [2014.0, 50.8], [2015.0, 50.76], [2016.0, 50.71], [2017.0, 50.72], [2018.0, 50.6], [2019.0, 50.49]], \"hoverlabel\": {\"namelength\": 0}, \"hovertemplate\": \"<b>%{hovertext}</b><br><br>Country Code=IND<br>UR=%{x}<br>LFPR=%{y}<br>E/pop=%{customdata[1]}<br>year=%{customdata[0]}\", \"hovertext\": [\"India\", \"India\", \"India\", \"India\", \"India\", \"India\", \"India\", \"India\", \"India\", \"India\", \"India\", \"India\", \"India\", \"India\", \"India\", \"India\", \"India\", \"India\", \"India\", \"India\", \"India\", \"India\", \"India\", \"India\", \"India\", \"India\", \"India\", \"India\", \"India\"], \"legendgroup\": \"Country Code=IND\", \"marker\": {\"color\": \"#f47915\", \"size\": [57.21, 57.17, 57.08, 57.12, 56.94, 56.71, 56.54, 56.32, 56.09, 55.92, 56.02, 56.1, 56.22, 56.47, 56.69, 55.99, 55.3, 54.52, 53.57, 52.77, 51.82, 50.85, 50.78, 50.8, 50.76, 50.71, 50.72, 50.6, 50.49], \"sizemode\": \"area\", \"sizeref\": 0.5357638888888889, \"symbol\": \"circle\"}, \"mode\": \"markers\", \"name\": \"IND\", \"showlegend\": true, \"type\": \"scatter\", \"x\": [2.3610000610351602, 2.40799999237061, 2.5729999542236297, 2.5910000801086404, 2.6110000610351602, 2.6649999618530296, 2.63000011444092, 2.6710000038147004, 2.74399995803833, 2.73099994659424, 2.86800003051758, 3.0520000457763703, 3.18199992179871, 3.0980000495910605, 3.10199999809265, 2.73699998855591, 2.3989999294281, 2.26799988746643, 2.4749999046325697, 2.44400000572205, 2.5190000534057595, 2.6900000572204603, 2.8229999542236297, 2.76500010490417, 2.78200006484985, 2.7300000190734903, 2.55699992179871, 2.55100011825562, 2.55100011825562], \"xaxis\": \"x\", \"y\": [58.59700012207029, 58.58000183105471, 58.5919990539551, 58.6360015869141, 58.4630012512207, 58.2630004882813, 58.0629997253418, 57.8650016784668, 57.673999786377, 57.4930000305176, 57.672000885009794, 57.8619995117188, 58.0629997253418, 58.2760009765625, 58.5, 57.5639991760254, 56.6599998474121, 55.7830009460449, 54.9280014038086, 54.090999603271506, 53.154998779296896, 52.25199890136721, 52.2560005187988, 52.2439994812012, 52.2080001831055, 52.1349983215332, 52.048000335693395, 51.925998687744105, 51.806999206543], \"yaxis\": \"y\"}, {\"customdata\": [[1991.0, 58.48], [1992.0, 58.08], [1993.0, 57.85], [1994.0, 58.7], [1995.0, 59.1], [1996.0, 61.13], [1997.0, 62.78], [1998.0, 64.36], [1999.0, 64.46], [2000.0, 64.6], [2001.0, 64.38], [2002.0, 64.38], [2003.0, 63.03], [2004.0, 62.92], [2005.0, 62.55], [2006.0, 63.45], [2007.0, 64.74], [2008.0, 65.69], [2009.0, 64.37], [2010.0, 63.38], [2011.0, 63.1], [2012.0, 63.26], [2013.0, 62.77], [2014.0, 62.46], [2015.0, 62.1], [2016.0, 61.36], [2017.0, 60.94], [2018.0, 60.99], [2019.0, 60.85]], \"hoverlabel\": {\"namelength\": 0}, \"hovertemplate\": \"<b>%{hovertext}</b><br><br>Country Code=NOR<br>UR=%{x}<br>LFPR=%{y}<br>E/pop=%{customdata[1]}<br>year=%{customdata[0]}\", \"hovertext\": [\"Norway\", \"Norway\", \"Norway\", \"Norway\", \"Norway\", \"Norway\", \"Norway\", \"Norway\", \"Norway\", \"Norway\", \"Norway\", \"Norway\", \"Norway\", \"Norway\", \"Norway\", \"Norway\", \"Norway\", \"Norway\", \"Norway\", \"Norway\", \"Norway\", \"Norway\", \"Norway\", \"Norway\", \"Norway\", \"Norway\", \"Norway\", \"Norway\", \"Norway\"], \"legendgroup\": \"Country Code=NOR\", \"marker\": {\"color\": \"#165aa7\", \"size\": [58.48, 58.08, 57.85, 58.7, 59.1, 61.13, 62.78, 64.36, 64.46, 64.6, 64.38, 64.38, 63.03, 62.92, 62.55, 63.45, 64.74, 65.69, 64.37, 63.38, 63.1, 63.26, 62.77, 62.46, 62.1, 61.36, 60.94, 60.99, 60.85], \"sizemode\": \"area\", \"sizeref\": 0.5357638888888889, \"symbol\": \"circle\"}, \"mode\": \"markers\", \"name\": \"NOR\", \"showlegend\": true, \"type\": \"scatter\", \"x\": [5.40700006484985, 5.90999984741211, 5.96500015258789, 5.348999977111821, 6.30700016021729, 5.03599977493286, 4.6869997978210405, 3.73699998855591, 3.24699997901917, 3.45799994468689, 3.73799991607666, 4.02199983596802, 4.22100019454956, 4.25600004196167, 4.38100004196167, 3.3989999294281, 2.4930000305175803, 2.5499999523162797, 3.1029999256133998, 3.5209999084472696, 3.21499991416931, 3.12299990653992, 3.42300009727478, 3.4839999675750697, 4.2960000038147, 4.67899990081787, 4.162000179290771, 3.9189999103546103, 3.9670000076293905], \"xaxis\": \"x\", \"y\": [61.8199996948242, 61.733001708984396, 61.5229988098145, 62.0130004882813, 63.082000732421896, 64.370002746582, 65.8629989624023, 66.8600006103516, 66.62400054931639, 66.9150009155273, 66.87599945068361, 67.08200073242189, 65.80300140380861, 65.7210006713867, 65.4199981689453, 65.68099975585939, 66.3960037231445, 67.411003112793, 66.43099975585939, 65.6910018920898, 65.197998046875, 65.2939987182617, 64.99099731445311, 64.7190017700195, 64.8889999389648, 64.3720016479492, 63.590999603271506, 63.478000640869105, 63.362998962402294], \"yaxis\": \"y\"}],\n",
       "                        {\"height\": 500, \"legend\": {\"itemsizing\": \"constant\", \"tracegroupgap\": 0}, \"margin\": {\"t\": 60}, \"template\": {\"data\": {\"bar\": [{\"error_x\": {\"color\": \"#2a3f5f\"}, \"error_y\": {\"color\": \"#2a3f5f\"}, \"marker\": {\"line\": {\"color\": \"white\", \"width\": 0.5}}, \"type\": \"bar\"}], \"barpolar\": [{\"marker\": {\"line\": {\"color\": \"white\", \"width\": 0.5}}, \"type\": \"barpolar\"}], \"carpet\": [{\"aaxis\": {\"endlinecolor\": \"#2a3f5f\", \"gridcolor\": \"#C8D4E3\", \"linecolor\": \"#C8D4E3\", \"minorgridcolor\": \"#C8D4E3\", \"startlinecolor\": \"#2a3f5f\"}, \"baxis\": {\"endlinecolor\": \"#2a3f5f\", \"gridcolor\": \"#C8D4E3\", \"linecolor\": \"#C8D4E3\", \"minorgridcolor\": \"#C8D4E3\", \"startlinecolor\": \"#2a3f5f\"}, \"type\": \"carpet\"}], \"choropleth\": [{\"colorbar\": {\"outlinewidth\": 0, \"ticks\": \"\"}, \"type\": \"choropleth\"}], \"contour\": [{\"colorbar\": {\"outlinewidth\": 0, \"ticks\": \"\"}, \"colorscale\": [[0.0, \"#0d0887\"], [0.1111111111111111, \"#46039f\"], [0.2222222222222222, \"#7201a8\"], [0.3333333333333333, \"#9c179e\"], [0.4444444444444444, \"#bd3786\"], [0.5555555555555556, \"#d8576b\"], [0.6666666666666666, \"#ed7953\"], [0.7777777777777778, \"#fb9f3a\"], [0.8888888888888888, \"#fdca26\"], [1.0, \"#f0f921\"]], \"type\": \"contour\"}], \"contourcarpet\": [{\"colorbar\": {\"outlinewidth\": 0, \"ticks\": \"\"}, \"type\": \"contourcarpet\"}], \"heatmap\": [{\"colorbar\": {\"outlinewidth\": 0, \"ticks\": \"\"}, \"colorscale\": [[0.0, \"#0d0887\"], [0.1111111111111111, \"#46039f\"], [0.2222222222222222, \"#7201a8\"], [0.3333333333333333, \"#9c179e\"], [0.4444444444444444, \"#bd3786\"], [0.5555555555555556, \"#d8576b\"], [0.6666666666666666, \"#ed7953\"], [0.7777777777777778, \"#fb9f3a\"], [0.8888888888888888, \"#fdca26\"], [1.0, \"#f0f921\"]], \"type\": \"heatmap\"}], \"heatmapgl\": [{\"colorbar\": {\"outlinewidth\": 0, \"ticks\": \"\"}, \"colorscale\": [[0.0, \"#0d0887\"], [0.1111111111111111, \"#46039f\"], [0.2222222222222222, \"#7201a8\"], [0.3333333333333333, \"#9c179e\"], [0.4444444444444444, \"#bd3786\"], [0.5555555555555556, \"#d8576b\"], [0.6666666666666666, \"#ed7953\"], [0.7777777777777778, \"#fb9f3a\"], [0.8888888888888888, \"#fdca26\"], [1.0, \"#f0f921\"]], \"type\": \"heatmapgl\"}], \"histogram\": [{\"marker\": {\"colorbar\": {\"outlinewidth\": 0, \"ticks\": \"\"}}, \"type\": \"histogram\"}], \"histogram2d\": [{\"colorbar\": {\"outlinewidth\": 0, \"ticks\": \"\"}, \"colorscale\": [[0.0, \"#0d0887\"], [0.1111111111111111, \"#46039f\"], [0.2222222222222222, \"#7201a8\"], [0.3333333333333333, \"#9c179e\"], [0.4444444444444444, \"#bd3786\"], [0.5555555555555556, \"#d8576b\"], [0.6666666666666666, \"#ed7953\"], [0.7777777777777778, \"#fb9f3a\"], [0.8888888888888888, \"#fdca26\"], [1.0, \"#f0f921\"]], \"type\": \"histogram2d\"}], \"histogram2dcontour\": [{\"colorbar\": {\"outlinewidth\": 0, \"ticks\": \"\"}, \"colorscale\": [[0.0, \"#0d0887\"], [0.1111111111111111, \"#46039f\"], [0.2222222222222222, \"#7201a8\"], [0.3333333333333333, \"#9c179e\"], [0.4444444444444444, \"#bd3786\"], [0.5555555555555556, \"#d8576b\"], [0.6666666666666666, \"#ed7953\"], [0.7777777777777778, \"#fb9f3a\"], [0.8888888888888888, \"#fdca26\"], [1.0, \"#f0f921\"]], \"type\": \"histogram2dcontour\"}], \"mesh3d\": [{\"colorbar\": {\"outlinewidth\": 0, \"ticks\": \"\"}, \"type\": \"mesh3d\"}], \"parcoords\": [{\"line\": {\"colorbar\": {\"outlinewidth\": 0, \"ticks\": \"\"}}, \"type\": \"parcoords\"}], \"pie\": [{\"automargin\": true, \"type\": \"pie\"}], \"scatter\": [{\"marker\": {\"colorbar\": {\"outlinewidth\": 0, \"ticks\": \"\"}}, \"type\": \"scatter\"}], \"scatter3d\": [{\"line\": {\"colorbar\": {\"outlinewidth\": 0, \"ticks\": \"\"}}, \"marker\": {\"colorbar\": {\"outlinewidth\": 0, \"ticks\": \"\"}}, \"type\": \"scatter3d\"}], \"scattercarpet\": [{\"marker\": {\"colorbar\": {\"outlinewidth\": 0, \"ticks\": \"\"}}, \"type\": \"scattercarpet\"}], \"scattergeo\": [{\"marker\": {\"colorbar\": {\"outlinewidth\": 0, \"ticks\": \"\"}}, \"type\": \"scattergeo\"}], \"scattergl\": [{\"marker\": {\"colorbar\": {\"outlinewidth\": 0, \"ticks\": \"\"}}, \"type\": \"scattergl\"}], \"scattermapbox\": [{\"marker\": {\"colorbar\": {\"outlinewidth\": 0, \"ticks\": \"\"}}, \"type\": \"scattermapbox\"}], \"scatterpolar\": [{\"marker\": {\"colorbar\": {\"outlinewidth\": 0, \"ticks\": \"\"}}, \"type\": \"scatterpolar\"}], \"scatterpolargl\": [{\"marker\": {\"colorbar\": {\"outlinewidth\": 0, \"ticks\": \"\"}}, \"type\": \"scatterpolargl\"}], \"scatterternary\": [{\"marker\": {\"colorbar\": {\"outlinewidth\": 0, \"ticks\": \"\"}}, \"type\": \"scatterternary\"}], \"surface\": [{\"colorbar\": {\"outlinewidth\": 0, \"ticks\": \"\"}, \"colorscale\": [[0.0, \"#0d0887\"], [0.1111111111111111, \"#46039f\"], [0.2222222222222222, \"#7201a8\"], [0.3333333333333333, \"#9c179e\"], [0.4444444444444444, \"#bd3786\"], [0.5555555555555556, \"#d8576b\"], [0.6666666666666666, \"#ed7953\"], [0.7777777777777778, \"#fb9f3a\"], [0.8888888888888888, \"#fdca26\"], [1.0, \"#f0f921\"]], \"type\": \"surface\"}], \"table\": [{\"cells\": {\"fill\": {\"color\": \"#EBF0F8\"}, \"line\": {\"color\": \"white\"}}, \"header\": {\"fill\": {\"color\": \"#C8D4E3\"}, \"line\": {\"color\": \"white\"}}, \"type\": \"table\"}]}, \"layout\": {\"annotationdefaults\": {\"arrowcolor\": \"#2a3f5f\", \"arrowhead\": 0, \"arrowwidth\": 1}, \"coloraxis\": {\"colorbar\": {\"outlinewidth\": 0, \"ticks\": \"\"}}, \"colorscale\": {\"diverging\": [[0, \"#8e0152\"], [0.1, \"#c51b7d\"], [0.2, \"#de77ae\"], [0.3, \"#f1b6da\"], [0.4, \"#fde0ef\"], [0.5, \"#f7f7f7\"], [0.6, \"#e6f5d0\"], [0.7, \"#b8e186\"], [0.8, \"#7fbc41\"], [0.9, \"#4d9221\"], [1, \"#276419\"]], \"sequential\": [[0.0, \"#0d0887\"], [0.1111111111111111, \"#46039f\"], [0.2222222222222222, \"#7201a8\"], [0.3333333333333333, \"#9c179e\"], [0.4444444444444444, \"#bd3786\"], [0.5555555555555556, \"#d8576b\"], [0.6666666666666666, \"#ed7953\"], [0.7777777777777778, \"#fb9f3a\"], [0.8888888888888888, \"#fdca26\"], [1.0, \"#f0f921\"]], \"sequentialminus\": [[0.0, \"#0d0887\"], [0.1111111111111111, \"#46039f\"], [0.2222222222222222, \"#7201a8\"], [0.3333333333333333, \"#9c179e\"], [0.4444444444444444, \"#bd3786\"], [0.5555555555555556, \"#d8576b\"], [0.6666666666666666, \"#ed7953\"], [0.7777777777777778, \"#fb9f3a\"], [0.8888888888888888, \"#fdca26\"], [1.0, \"#f0f921\"]]}, \"colorway\": [\"#636efa\", \"#EF553B\", \"#00cc96\", \"#ab63fa\", \"#FFA15A\", \"#19d3f3\", \"#FF6692\", \"#B6E880\", \"#FF97FF\", \"#FECB52\"], \"font\": {\"color\": \"#2a3f5f\"}, \"geo\": {\"bgcolor\": \"white\", \"lakecolor\": \"white\", \"landcolor\": \"white\", \"showlakes\": true, \"showland\": true, \"subunitcolor\": \"#C8D4E3\"}, \"hoverlabel\": {\"align\": \"left\"}, \"hovermode\": \"closest\", \"mapbox\": {\"style\": \"light\"}, \"paper_bgcolor\": \"white\", \"plot_bgcolor\": \"white\", \"polar\": {\"angularaxis\": {\"gridcolor\": \"#EBF0F8\", \"linecolor\": \"#EBF0F8\", \"ticks\": \"\"}, \"bgcolor\": \"white\", \"radialaxis\": {\"gridcolor\": \"#EBF0F8\", \"linecolor\": \"#EBF0F8\", \"ticks\": \"\"}}, \"scene\": {\"xaxis\": {\"backgroundcolor\": \"white\", \"gridcolor\": \"#DFE8F3\", \"gridwidth\": 2, \"linecolor\": \"#EBF0F8\", \"showbackground\": true, \"ticks\": \"\", \"zerolinecolor\": \"#EBF0F8\"}, \"yaxis\": {\"backgroundcolor\": \"white\", \"gridcolor\": \"#DFE8F3\", \"gridwidth\": 2, \"linecolor\": \"#EBF0F8\", \"showbackground\": true, \"ticks\": \"\", \"zerolinecolor\": \"#EBF0F8\"}, \"zaxis\": {\"backgroundcolor\": \"white\", \"gridcolor\": \"#DFE8F3\", \"gridwidth\": 2, \"linecolor\": \"#EBF0F8\", \"showbackground\": true, \"ticks\": \"\", \"zerolinecolor\": \"#EBF0F8\"}}, \"shapedefaults\": {\"line\": {\"color\": \"#2a3f5f\"}}, \"ternary\": {\"aaxis\": {\"gridcolor\": \"#DFE8F3\", \"linecolor\": \"#A2B1C6\", \"ticks\": \"\"}, \"baxis\": {\"gridcolor\": \"#DFE8F3\", \"linecolor\": \"#A2B1C6\", \"ticks\": \"\"}, \"bgcolor\": \"white\", \"caxis\": {\"gridcolor\": \"#DFE8F3\", \"linecolor\": \"#A2B1C6\", \"ticks\": \"\"}}, \"title\": {\"x\": 0.05}, \"xaxis\": {\"automargin\": true, \"gridcolor\": \"#EBF0F8\", \"linecolor\": \"#EBF0F8\", \"ticks\": \"\", \"title\": {\"standoff\": 15}, \"zerolinecolor\": \"#EBF0F8\", \"zerolinewidth\": 2}, \"yaxis\": {\"automargin\": true, \"gridcolor\": \"#EBF0F8\", \"linecolor\": \"#EBF0F8\", \"ticks\": \"\", \"title\": {\"standoff\": 15}, \"zerolinecolor\": \"#EBF0F8\", \"zerolinewidth\": 2}}}, \"xaxis\": {\"anchor\": \"y\", \"domain\": [0.0, 1.0], \"title\": {\"text\": \"UR\"}}, \"yaxis\": {\"anchor\": \"x\", \"domain\": [0.0, 1.0], \"title\": {\"text\": \"LFPR\"}}},\n",
       "                        {\"responsive\": true}\n",
       "                    ).then(function(){\n",
       "                            \n",
       "var gd = document.getElementById('608cdee5-264f-4eb5-bf55-3fa351bd3868');\n",
       "var x = new MutationObserver(function (mutations, observer) {{\n",
       "        var display = window.getComputedStyle(gd).display;\n",
       "        if (!display || display === 'none') {{\n",
       "            console.log([gd, 'removed!']);\n",
       "            Plotly.purge(gd);\n",
       "            observer.disconnect();\n",
       "        }}\n",
       "}});\n",
       "\n",
       "// Listen for the removal of the full notebook cells\n",
       "var notebookContainer = gd.closest('#notebook-container');\n",
       "if (notebookContainer) {{\n",
       "    x.observe(notebookContainer, {childList: true});\n",
       "}}\n",
       "\n",
       "// Listen for the clearing of the current output cell\n",
       "var outputEl = gd.closest('.output');\n",
       "if (outputEl) {{\n",
       "    x.observe(outputEl, {childList: true});\n",
       "}}\n",
       "\n",
       "                        })\n",
       "                };\n",
       "                });\n",
       "            </script>\n",
       "        </div>"
      ]
     },
     "metadata": {},
     "output_type": "display_data"
    }
   ],
   "source": [
    "fig.for_each_trace(\n",
    "    lambda trace: trace.update(name=trace.name.replace(\"Country Code=\", \"\")))"
   ]
  },
  {
   "cell_type": "code",
   "execution_count": 171,
   "metadata": {},
   "outputs": [
    {
     "data": {
      "text/plain": [
       "'lfpr_ur.html'"
      ]
     },
     "execution_count": 171,
     "metadata": {},
     "output_type": "execute_result"
    }
   ],
   "source": [
    "py.offline.plot(fig, filename='lfpr_ur.html')"
   ]
  },
  {
   "cell_type": "code",
   "execution_count": null,
   "metadata": {},
   "outputs": [],
   "source": []
  }
 ],
 "metadata": {
  "kernelspec": {
   "display_name": "Python 3",
   "language": "python",
   "name": "python3"
  },
  "language_info": {
   "codemirror_mode": {
    "name": "ipython",
    "version": 3
   },
   "file_extension": ".py",
   "mimetype": "text/x-python",
   "name": "python",
   "nbconvert_exporter": "python",
   "pygments_lexer": "ipython3",
   "version": "3.7.1"
  }
 },
 "nbformat": 4,
 "nbformat_minor": 2
}
